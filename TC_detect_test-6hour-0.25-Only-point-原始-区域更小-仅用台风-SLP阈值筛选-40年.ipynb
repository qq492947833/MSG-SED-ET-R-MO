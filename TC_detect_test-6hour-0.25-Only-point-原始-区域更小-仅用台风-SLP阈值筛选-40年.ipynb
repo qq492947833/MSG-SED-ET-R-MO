{
 "cells": [
  {
   "cell_type": "code",
   "execution_count": 1,
   "id": "596054d3",
   "metadata": {
    "ExecuteTime": {
     "end_time": "2023-12-07T08:03:59.959704Z",
     "start_time": "2023-12-07T08:03:59.950673Z"
    }
   },
   "outputs": [],
   "source": [
    "import Auto_paint_self\n",
    "import numpy as np"
   ]
  },
  {
   "cell_type": "code",
   "execution_count": 2,
   "id": "cd77cb70",
   "metadata": {},
   "outputs": [],
   "source": [
    "#打开nc文件\n",
    "def open_data_nc(ncmode,filename,v_name,iftime,timename,timestart,timeend,iflon,lonname,iflat,latname,latlow,lattop,lonleft,lonright,latresolution,lonresolution,ifexper,iflevel,levelname,level,changeresolution=1,timespace=1,ifchange_west_east='no',ifinterpolate='no'):\n",
    "    import numpy as np\n",
    "    import pandas as pd\n",
    "    import matplotlib.pyplot as plt\n",
    "    from netCDF4 import Dataset as net\n",
    "    import xarray as xr\n",
    "    from datetime import datetime,timedelta\n",
    "    from dateutil.relativedelta import relativedelta\n",
    "    import os\n",
    "    from wrf import getvar,interplevel\n",
    "    \n",
    "    plt.rcParams['font.sans-serif']=['SimHei'] #正常显示中文\n",
    "    plt.rcParams['axes.unicode_minus']=False #正常显示正负号\n",
    "    if ncmode == 'one':\n",
    "        file = xr.open_dataset(filename)\n",
    "        if ifinterpolate == 'yes':\n",
    "            inter = str('file.interp('+latname+'=np.arange('+str(latlow)+','+str(lattop+latresolution)+','+str(latresolution)+'),'+lonname+'=np.arange('+str(lonleft)+','+str(lonright+lonresolution)+','+str(lonresolution)+'))')\n",
    "            files=eval(inter)\n",
    "            file = files\n",
    "        if iftime  == 'yes' or iftime == 'self':\n",
    "            times = np.array(file[timename])\n",
    "        if iflon == 'yes':\n",
    "            lon = np.array(file[lonname])\n",
    "        if iflat == 'yes':\n",
    "            lat = np.array(file[latname])\n",
    "        v = file[v_name]\n",
    "        if iflevel != 'no':\n",
    "            levels = np.array(file[levelname])\n",
    "    elif ncmode == 'more_time' or ncmode =='more_level':\n",
    "        direc = os.listdir(filename)\n",
    "        path = []\n",
    "        file = []\n",
    "        v = []\n",
    "        lat = []\n",
    "        lon = []\n",
    "        times = []\n",
    "        levels = []\n",
    "        for i in range(len(direc)):\n",
    "            if filename[-1] == '/':  \n",
    "                path.append(filename+str(direc[i]))\n",
    "            else:\n",
    "                path.append(filename+'/'+str(direc[i]))\n",
    "            file_xr = xr.open_dataset(path[i])\n",
    "            if ifinterpolate == 'yes':\n",
    "                inter = str('file_xr.interp('+latname+'=np.arange('+str(latlow)+','+str(lattop)+','+str(latresolution)+'),'+lonname+'=np.arange('+str(lonleft)+','+str(lonright)+','+str(lonresolution)+'))')\n",
    "                files=eval(inter)\n",
    "                file_xr = files\n",
    "            file.append(file_xr)\n",
    "            if ncmode == 'more_time':\n",
    "                vs=np.array(file[i][v_name])\n",
    "                if iftime =='yes':\n",
    "                    timelist=np.array(file[i][timename])\n",
    "                if i != 0:\n",
    "                    if iftime =='yes':\n",
    "                        v=np.concatenate((v,vs))\n",
    "                        times=np.concatenate((times,timelist))\n",
    "                    elif iftime =='create':\n",
    "                        if iflevel !='no':\n",
    "                            if iflat !='no':\n",
    "                                if iflon !='no':\n",
    "                                    vs = vs.reshape((1,vs.shape[0],vs.shape[1],vs.shape[2]))\n",
    "                                else:\n",
    "                                    vs = vs.reshape((1,vs.shape[0],vs.shape[1]))\n",
    "                            else:\n",
    "                                if iflon !='no':\n",
    "                                    vs = vs.reshape((1,vs.shape[0],vs.shape[1]))\n",
    "                                else:\n",
    "                                    vs = vs.reshape((1,vs.shape[0]))\n",
    "                        else:\n",
    "                            if iflat !='no':\n",
    "                                if iflon !='no':\n",
    "                                    vs = vs.reshape((1,vs.shape[0],vs.shape[1]))\n",
    "                                else:\n",
    "                                    vs = vs.reshape((1,vs.shape[0]))\n",
    "                            else:\n",
    "                                if iflon !='no':\n",
    "                                    vs = vs.reshape((1,vs.shape[0]))\n",
    "                                else:\n",
    "                                    vs = vs.reshape((1))\n",
    "                        v=np.concatenate((v,vs))\n",
    "                else:\n",
    "                    if iftime == 'create':\n",
    "                        if iflevel !='no':\n",
    "                            if iflat !='no':\n",
    "                                if iflon !='no':\n",
    "                                    vs = vs.reshape((1,vs.shape[0],vs.shape[1],vs.shape[2]))\n",
    "                                else:\n",
    "                                    vs = vs.reshape((1,vs.shape[0],vs.shape[1]))\n",
    "                            else:\n",
    "                                if iflon !='no':\n",
    "                                    vs = vs.reshape((1,vs.shape[0],vs.shape[1]))\n",
    "                                else:\n",
    "                                    vs = vs.reshape((1,vs.shape[0]))\n",
    "                        else:\n",
    "                            if iflat !='no':\n",
    "                                if iflon !='no':\n",
    "                                    vs = vs.reshape((1,vs.shape[0],vs.shape[1]))\n",
    "                                else:\n",
    "                                    vs = vs.reshape((1,vs.shape[0]))\n",
    "                            else:\n",
    "                                if iflon !='no':\n",
    "                                    vs = vs.reshape((1,vs.shape[0]))\n",
    "                                else:\n",
    "                                    vs = vs.reshape((1))\n",
    "                        v=vs\n",
    "                    elif iftime == 'yes':\n",
    "                        v = vs\n",
    "                        times=timelist\n",
    "            if ncmode == 'more_level':\n",
    "                if iflevel == 'create':\n",
    "                    vs=np.array(file[i][v_name])\n",
    "                    levels=level\n",
    "                elif iflevel == 'yes' or iflevel =='all' or iflevel =='self' or iflevel =='selfchose':\n",
    "                    if iftime !='no':\n",
    "                        if iflat !='no':\n",
    "                            if iflon !='no':\n",
    "                                vs=np.array(file[i][v_name]).transpose(1,0,2,3)\n",
    "                            else:\n",
    "                                vs=np.array(file[i][v_name]).transpose(1,0,2)\n",
    "                        else:\n",
    "                            if iflon !='no':\n",
    "                                vs=np.array(file[i][v_name]).transpose(1,0,2)\n",
    "                            else:\n",
    "                                vs=np.array(file[i][v_name]).transpose(1,0)\n",
    "                    levellist=np.array(file[i][levelname])      \n",
    "                if i != 0:\n",
    "                    if iflevel == 'yes' or iflevel =='all' or iflevel =='self' or iflevel =='selfchose':\n",
    "                        v=np.concatenate((v,vs))\n",
    "                        levels=np.concatenate((levels,levellist))\n",
    "                    elif iflevel =='create':\n",
    "                        if iftime !='no':\n",
    "                            if iflat !='no':\n",
    "                                if iflon !='no':\n",
    "                                    vs = vs.reshape((1,vs.shape[0],vs.shape[1],vs.shape[2]))\n",
    "                                else:\n",
    "                                    vs = vs.reshape((1,vs.shape[0],vs.shape[1]))\n",
    "                            else:\n",
    "                                if iflon !='no':\n",
    "                                    vs = vs.reshape((1,vs.shape[0],vs.shape[1]))\n",
    "                                else:\n",
    "                                    vs = vs.reshape((1,vs.shape[0]))\n",
    "                        else:\n",
    "                            if iflat !='no':\n",
    "                                if iflon !='no':\n",
    "                                    vs = vs.reshape((1,vs.shape[0],vs.shape[1]))\n",
    "                                else:\n",
    "                                    vs = vs.reshape((1,vs.shape[0]))\n",
    "                            else:\n",
    "                                if iflon !='no':\n",
    "                                    vs = vs.reshape((1,vs.shape[0]))\n",
    "                                else:\n",
    "                                    vs = vs.reshape((1))\n",
    "                        v=np.concatenate((v,vs))\n",
    "                else:\n",
    "                    if iflevel == 'create':\n",
    "                        if iftime !='no':\n",
    "                            if iflat !='no':\n",
    "                                if iflon !='no':\n",
    "                                    vs = vs.reshape((1,vs.shape[0],vs.shape[1],vs.shape[2]))\n",
    "                                else:\n",
    "                                    vs = vs.reshape((1,vs.shape[0],vs.shape[1]))\n",
    "                            else:\n",
    "                                if iflon !='no':\n",
    "                                    vs = vs.reshape((1,vs.shape[0],vs.shape[1]))\n",
    "                                else:\n",
    "                                    vs = vs.reshape((1,vs.shape[0]))\n",
    "                        else:\n",
    "                            if iflat !='no':\n",
    "                                if iflon !='no':\n",
    "                                    vs = vs.reshape((1,vs.shape[0],vs.shape[1]))\n",
    "                                else:\n",
    "                                    vs = vs.reshape((1,vs.shape[0]))\n",
    "                            else:\n",
    "                                if iflon !='no':\n",
    "                                    vs = vs.reshape((1,vs.shape[0]))\n",
    "                                else:\n",
    "                                    vs = vs.reshape((1))\n",
    "                        v=vs\n",
    "                    elif iflevel == 'yes' or iflevel =='all' or iflevel =='self' or iflevel =='selfchose':\n",
    "                        v=vs\n",
    "                        levels=levellist\n",
    "        if ncmode == 'more_time':\n",
    "            if iflon =='yes':\n",
    "                lon = file[0][lonname]\n",
    "            if iflat =='yes':\n",
    "                lat = file[0][latname]\n",
    "            if iflevel != 'no':\n",
    "                levels = np.array(file[0][levelname])\n",
    "        if ncmode == 'more_level':\n",
    "            if iflon =='yes':\n",
    "                lon = file[0][lonname]\n",
    "            if iflat =='yes':\n",
    "                lat = file[0][latname]\n",
    "            if iftime != 'no':\n",
    "                times = np.array(file[0][timename])\n",
    "            if iftime !='no':\n",
    "                if iflat !='no':\n",
    "                    if iflon !='no':\n",
    "                        v=v.transpose(1,0,2,3)\n",
    "                    else:\n",
    "                        v=v.transpose(1,0,2)\n",
    "                else:\n",
    "                    if iflon !='no':\n",
    "                        v=v.transpose(1,0,2)\n",
    "                    else:\n",
    "                        v=v.transpose(1,0)\n",
    "    elif ncmode == 'one_wrf':\n",
    "        file = xr.open_dataset(filename)\n",
    "        ncfile = net(filename)\n",
    "        times = np.array(file[timename])\n",
    "        lon = np.array(file[lonname][0,0,:])\n",
    "        lat = np.array(file[latname][0,:,0])\n",
    "        if iflevel == 'no':\n",
    "            v = np.zeros((times.shape[0],lat.shape[0],lon.shape[0]))\n",
    "            for i in range(times.shape[0]):\n",
    "                v[i,:,:] = np.array(getvar(ncfile,v_name,i))\n",
    "        elif iflevel == 'yes':\n",
    "            levels = np.array(file[levelname])[0,:]\n",
    "            p = np.zeros((times.shape[0],levels.shape[0],lat.shape[0],lon.shape[0]))\n",
    "            v = np.zeros((times.shape[0],levels.shape[0],lat.shape[0],lon.shape[0]))\n",
    "            for i in range(times.shape[0]):\n",
    "                if v_name == 'U':\n",
    "                    v[i,:,:,:] = np.array(getvar(ncfile,v_name,i))[:,:,:-1]\n",
    "                elif v_name == 'V':\n",
    "                    v[i,:,:,:] = np.array(getvar(ncfile,v_name,i))[:,:-1,:]\n",
    "                elif v_name == 'W' or v_name == 'PH' or v_name == 'PHB':\n",
    "                    v[i,:,:,:] = np.array(getvar(ncfile,v_name,i))[:-1,:,:]\n",
    "                else:\n",
    "                    v[i,:,:,:] = np.array(getvar(ncfile,v_name,i))\n",
    "                p[i,:,:,:] = np.array(getvar(ncfile,'pressure',i))\n",
    "            vs = np.zeros((times.shape[0],lat.shape[0],lon.shape[0]))\n",
    "            for i in range(times.shape[0]):\n",
    "                vs[i,:,:] = interplevel(v[i,:,:,:],p[i,:,:,:],level)\n",
    "        else:\n",
    "            levels = np.array(file[levelname])[0,:]\n",
    "            p = np.zeros((times.shape[0],levels.shape[0],lat.shape[0],lon.shape[0]))\n",
    "            v = np.zeros((times.shape[0],levels.shape[0],lat.shape[0],lon.shape[0]))\n",
    "            for i in range(times.shape[0]):\n",
    "                if v_name == 'U':\n",
    "                    v[i,:,:,:] = np.array(getvar(ncfile,v_name,i))[:,:,:-1]\n",
    "                elif v_name == 'V':\n",
    "                    v[i,:,:,:] = np.array(getvar(ncfile,v_name,i))[:,:-1,:]\n",
    "                elif v_name == 'W' or v_name == 'PH' or v_name == 'PHB':\n",
    "                    v[i,:,:,:] = np.array(getvar(ncfile,v_name,i))[:-1,:,:]\n",
    "                else:\n",
    "                    v[i,:,:,:] = np.array(getvar(ncfile,v_name,i))\n",
    "                p[i,:,:,:] = np.array(getvar(ncfile,'pressure',i))\n",
    "            vs = np.zeros((times.shape[0],len(level),lat.shape[0],lon.shape[0]))\n",
    "            for i in range(times.shape[0]):\n",
    "                vs[i,:,:,:] = interplevel(v[i,:,:,:],p[i,:,:,:],level)\n",
    "        if iflevel !='no':\n",
    "            levels = level\n",
    "            v = vs\n",
    "    if iftime =='yes' or iftime == 'create':\n",
    "        if len(timestart) == 4 :\n",
    "            if iftime =='yes':\n",
    "                for i in range(len(times)):\n",
    "                    if timestart == pd.to_datetime(str(np.array(times[i]))).strftime('%Y'):\n",
    "                        startpoint = i\n",
    "                    if timeend == pd.to_datetime(str(np.array(times[i]))).strftime('%Y'):\n",
    "                        endpoint = i\n",
    "            if iftime =='create':\n",
    "                for i in range(v.shape[0]):\n",
    "                    times.append(datetime(int(pd.to_datetime(str(timestart)).strftime('%Y')),int(pd.to_datetime(str(timestart)).strftime('%m')),int(pd.to_datetime(str(timestart)).strftime('%d')))+ timespace*i * relativedelta(years=+1))\n",
    "                    times[i]=pd.to_datetime(str(times[i])).strftime('%Y-%m-%d')\n",
    "                times = np.array(times,dtype = np.datetime64)\n",
    "        elif len(timestart) == 7 :\n",
    "            if iftime =='yes':\n",
    "                for i in range(len(times)):\n",
    "                    if timestart == pd.to_datetime(str(np.array(times[i]))).strftime('%Y-%m'):\n",
    "                        startpoint = i\n",
    "                    if timeend == pd.to_datetime(str(np.array(times[i]))).strftime('%Y-%m'):\n",
    "                        endpoint = i\n",
    "            if iftime =='create':\n",
    "                for i in range(v.shape[0]):\n",
    "                    times.append(datetime(int(pd.to_datetime(str(timestart)).strftime('%Y')),int(pd.to_datetime(str(timestart)).strftime('%m')),int(pd.to_datetime(str(timestart)).strftime('%d')))+ timespace*i * relativedelta(months=+1))\n",
    "                    times[i]=pd.to_datetime(str(times[i])).strftime('%Y-%m-%d')\n",
    "                times = np.array(times,dtype = np.datetime64)\n",
    "        elif len(timestart) == 10 :\n",
    "            if iftime =='yes':\n",
    "                for i in range(len(times)):\n",
    "                    if timestart == pd.to_datetime(str(np.array(times[i]))).strftime('%Y-%m-%d'):\n",
    "                        startpoint = i\n",
    "                    if timeend == pd.to_datetime(str(np.array(times[i]))).strftime('%Y-%m-%d'):\n",
    "                        endpoint = i\n",
    "            if iftime =='create':\n",
    "                for i in range(v.shape[0]):\n",
    "                    times.append(datetime(int(pd.to_datetime(str(timestart)).strftime('%Y')),int(pd.to_datetime(str(timestart)).strftime('%m')),int(pd.to_datetime(str(timestart)).strftime('%d')))+ timespace*i * timedelta(days=1))\n",
    "                    times[i]=pd.to_datetime(str(times[i])).strftime('%Y-%m-%d')\n",
    "                times = np.array(times,dtype = np.datetime64)\n",
    "        elif len(timestart) == 13 :\n",
    "            if iftime =='yes':\n",
    "                for i in range(len(times)):\n",
    "                    if timestart == pd.to_datetime(str(np.array(times[i]))).strftime('%Y-%m-%d-%H'):\n",
    "                        startpoint = i\n",
    "                    if timeend == pd.to_datetime(str(np.array(times[i]))).strftime('%Y-%m-%d-%H'):\n",
    "                        endpoint = i\n",
    "            if iftime =='create':\n",
    "                for i in range(v.shape[0]):\n",
    "                    times.append(datetime(int(pd.to_datetime(str(timestart)).strftime('%Y')),int(pd.to_datetime(str(timestart)).strftime('%m')),int(pd.to_datetime(str(timestart)).strftime('%d')),int(pd.to_datetime(str(timestart)).strftime('%H')))+ timespace*i * timedelta(hours=1))\n",
    "                    times[i]=pd.to_datetime(str(times[i])).strftime('%Y-%m-%d %H:%M:%S')\n",
    "                times = np.array(times,dtype = np.datetime64)\n",
    "        elif len(timestart) == 16 :\n",
    "            if iftime =='yes':\n",
    "                for i in range(len(times)):\n",
    "                    if timestart == pd.to_datetime(str(np.array(times[i]))).strftime('%Y-%m-%d-%H-%M'):\n",
    "                        startpoint = i\n",
    "                    if timeend == pd.to_datetime(str(np.array(times[i]))).strftime('%Y-%m-%d-%H-%M'):\n",
    "                        endpoint = i\n",
    "            if iftime =='create':\n",
    "                for i in range(v.shape[0]):\n",
    "                    times.append(datetime(int(pd.to_datetime(str(timestart)).strftime('%Y')),int(pd.to_datetime(str(timestart)).strftime('%m')),int(pd.to_datetime(str(timestart)).strftime('%d')),int(pd.to_datetime(str(timestart)).strftime('%H')),int(pd.to_datetime(str(timestart)).strftime('%M')))+ timespace*i * timedelta(minutes=1))\n",
    "                    times[i]=pd.to_datetime(str(times[i])).strftime('%Y-%m-%d %H:%M:%S')\n",
    "                times = np.array(times,dtype = np.datetime64)\n",
    "        elif len(timestart) == 19 :\n",
    "            if iftime =='yes':\n",
    "                for i in range(len(times)):\n",
    "                    if timestart == pd.to_datetime(str(np.array(times[i]))).strftime('%Y-%m-%d-%H-%M-%S'):\n",
    "                        startpoint = i\n",
    "                    if timeend == pd.to_datetime(str(np.array(times[i]))).strftime('%Y-%m-%d-%H-%M-%S'):\n",
    "                        endpoint = i\n",
    "            if iftime =='create':\n",
    "                for i in range(v.shape[0]):\n",
    "                    times.append(datetime(int(pd.to_datetime(str(timestart)).strftime('%Y')),int(pd.to_datetime(str(timestart)).strftime('%m')),int(pd.to_datetime(str(timestart)).strftime('%d')),int(pd.to_datetime(str(timestart)).strftime('%H')),int(pd.to_datetime(str(timestart)).strftime('%M')),int(pd.to_datetime(str(timestart)).strftime('%S')))+ timespace*i * timedelta(seconds=1))\n",
    "                    times[i]=pd.to_datetime(str(times[i])).strftime('%Y-%m-%d %H:%M:%S')\n",
    "                times = np.array(times,dtype = np.datetime64)\n",
    "    if iftime=='self':\n",
    "        for i in range(len(times)):\n",
    "            if timestart == times[i]:\n",
    "                startpoint = i\n",
    "            if timeend == times[i]:\n",
    "                endpoint = i\n",
    "    if iftime =='yes' or iftime=='self':\n",
    "        times = times[startpoint:endpoint+1]\n",
    "    elif iftime =='create':\n",
    "        startpoint = 0\n",
    "        endpoint = times.shape[0]\n",
    "    if iflat == 'yes':\n",
    "        if float(lat[0])>float(lat[1]):\n",
    "            lowpoint = int((np.nanmax(lat)-latlow)/latresolution)\n",
    "            toppoint = int((np.nanmax(lat)-lattop)/latresolution)\n",
    "        else:\n",
    "            lowpoint = int((-np.nanmin(lat)+latlow)/latresolution)\n",
    "            toppoint = int((-np.nanmin(lat)+lattop)/latresolution)\n",
    "    if iflon == 'yes':\n",
    "        leftpoint = int((-np.nanmin(lon)+lonleft)/lonresolution)\n",
    "        rightpoint = int((-np.nanmin(lon)+lonright)/lonresolution)\n",
    "    if ncmode != 'one_wrf':\n",
    "        if iflevel == 'yes':\n",
    "            for i in range(0,len(levels)):\n",
    "                if int(level) == int(levels[i]):\n",
    "                    levelpoint = i\n",
    "            if ifexper == 'yes':\n",
    "                if float(lat[0])>float(lat[1]):\n",
    "                    v = v[startpoint:endpoint+1,0,levelpoint,toppoint:lowpoint+1,leftpoint:rightpoint+1]\n",
    "                    v = np.array(v[:,::changeresolution,::changeresolution])\n",
    "                else:\n",
    "                    v = v[startpoint:endpoint+1,0,levelpoint,lowpoint:toppoint+1,leftpoint:rightpoint+1]\n",
    "                    v = np.array(v[:,::changeresolution,::changeresolution])\n",
    "            elif ifexper ==  'no':\n",
    "                if iftime != 'no':\n",
    "                    if iflon != 'no':\n",
    "                        if iflat != 'no':\n",
    "                            if float(lat[0])>float(lat[1]):\n",
    "                                v = v[startpoint:endpoint+1,levelpoint,toppoint:lowpoint+1,leftpoint:rightpoint+1]\n",
    "                                v = np.array(v[:,::changeresolution,::changeresolution])\n",
    "                            else:\n",
    "                                v = v[startpoint:endpoint+1,levelpoint,lowpoint:toppoint+1,leftpoint:rightpoint+1]\n",
    "                                v = np.array(v[:,::changeresolution,::changeresolution])\n",
    "                        else:\n",
    "                            v = v[startpoint:endpoint+1,levelpoint,leftpoint:rightpoint+1]\n",
    "                            v = np.array(v[:,::changeresolution])\n",
    "                    else:\n",
    "                        if iflat != 'no':\n",
    "                            if float(lat[0])>float(lat[1]):\n",
    "                                v = v[startpoint:endpoint+1,levelpoint,toppoint:lowpoint+1]\n",
    "                                v = np.array(v[:,::changeresolution])\n",
    "                            else:\n",
    "                                v = v[startpoint:endpoint+1,levelpoint,lowpoint:toppoint+1]\n",
    "                                v = np.array(v[:,::changeresolution])\n",
    "                        else:\n",
    "                            v = v[startpoint:endpoint+1,levelpoint]\n",
    "                            v = np.array(v)\n",
    "                else:\n",
    "                    if iflon != 'no':\n",
    "                        if iflat != 'no':\n",
    "                            if float(lat[0])>float(lat[1]):\n",
    "                                v = v[levelpoint,toppoint:lowpoint+1,leftpoint:rightpoint+1]\n",
    "                                v = np.array(v[::changeresolution,::changeresolution])\n",
    "                            else:\n",
    "                                v = v[levelpoint,lowpoint:toppoint+1,leftpoint:rightpoint+1]\n",
    "                                v = np.array(v[::changeresolution,::changeresolution])\n",
    "                        else:\n",
    "                            v = v[levelpoint,leftpoint:rightpoint+1]\n",
    "                            v = np.array(v[::changeresolution])\n",
    "                    else:\n",
    "                        if iflat != 'no':\n",
    "                            if float(lat[0])>float(lat[1]):\n",
    "                                v = v[levelpoint,toppoint:lowpoint+1]\n",
    "                                v = np.array(v[::changeresolution])\n",
    "                            else:\n",
    "                                v = v[levelpoint,lowpoint:toppoint+1]\n",
    "                                v = np.array(v[::changeresolution])\n",
    "                        else:\n",
    "                            v = v[levelpoint]\n",
    "                            v = np.array(v)\n",
    "        elif iflevel == 'no':\n",
    "            if ifexper == 'yes':\n",
    "                if float(lat[0])>float(lat[1]):\n",
    "                    v = v[startpoint:endpoint+1,0,toppoint:lowpoint+1,leftpoint:rightpoint+1]\n",
    "                    v = np.array(v[:,::changeresolution,::changeresolution])\n",
    "                else:\n",
    "                    v = v[startpoint:endpoint+1,0,lowpoint:toppoint+1,leftpoint:rightpoint+1]\n",
    "                    v = np.array(v[:,::changeresolution,::changeresolution])\n",
    "            elif ifexper ==  'no':\n",
    "                if iftime != 'no':\n",
    "                    if iflon != 'no':\n",
    "                        if iflat != 'no':\n",
    "                            if float(lat[0])>float(lat[1]):\n",
    "                                v = v[startpoint:endpoint+1,toppoint:lowpoint+1,leftpoint:rightpoint+1]\n",
    "                                v = np.array(v[:,::changeresolution,::changeresolution])\n",
    "                            else:\n",
    "                                v = v[startpoint:endpoint+1,lowpoint:toppoint+1,leftpoint:rightpoint+1]\n",
    "                                v = np.array(v[:,::changeresolution,::changeresolution])\n",
    "                        else:\n",
    "                            v = v[startpoint:endpoint+1,leftpoint:rightpoint+1]\n",
    "                            v = np.array(v[:,::changeresolution])\n",
    "                    else:\n",
    "                        if iflat != 'no':\n",
    "                            if float(lat[0])>float(lat[1]):\n",
    "                                v = v[startpoint:endpoint+1,toppoint:lowpoint+1]\n",
    "                                v = np.array(v[:,::changeresolution])\n",
    "                            else:\n",
    "                                v = v[startpoint:endpoint+1,lowpoint:toppoint+1]\n",
    "                                v = np.array(v[:,::changeresolution])\n",
    "                        else:\n",
    "                            v = v[startpoint:endpoint+1]\n",
    "                            v = np.array(v)\n",
    "                else:\n",
    "                    if iflon != 'no':\n",
    "                        if iflat != 'no':\n",
    "                            if float(lat[0])>float(lat[1]):\n",
    "                                v = v[toppoint:lowpoint+1,leftpoint:rightpoint+1]\n",
    "                                v = np.array(v[::changeresolution,::changeresolution])\n",
    "                            else:\n",
    "                                v = v[lowpoint:toppoint+1,leftpoint:rightpoint+1]\n",
    "                                v = np.array(v[::changeresolution,::changeresolution])\n",
    "                        else:\n",
    "                            v = v[leftpoint:rightpoint+1]\n",
    "                            v = np.array(v[::changeresolution])\n",
    "                    else:\n",
    "                        if iflat != 'no':\n",
    "                            if float(lat[0])>float(lat[1]):\n",
    "                                v = v[toppoint:lowpoint+1]\n",
    "                                v = np.array(v[::changeresolution])\n",
    "                            else:\n",
    "                                v = v[lowpoint:toppoint+1]\n",
    "                                v = np.array(v[::changeresolution])\n",
    "                        else:\n",
    "                            v = None\n",
    "        elif iflevel == 'all' or iflevel =='create':\n",
    "            if ifexper == 'yes':\n",
    "                if float(lat[0])>float(lat[1]):\n",
    "                    v = v[startpoint:endpoint+1,0,:,toppoint:lowpoint+1,leftpoint:rightpoint+1]\n",
    "                    v = np.array(v[:,:,::changeresolution,::changeresolution])\n",
    "                else:\n",
    "                    v = v[startpoint:endpoint+1,0,:,lowpoint:toppoint+1,leftpoint:rightpoint+1]\n",
    "                    v = np.array(v[:,:,::changeresolution,::changeresolution])\n",
    "            elif ifexper == 'no':\n",
    "                if iftime != 'no':\n",
    "                    if iflon != 'no':\n",
    "                        if iflat != 'no':\n",
    "                            if float(lat[0])>float(lat[1]):\n",
    "                                v = v[startpoint:endpoint+1,:,toppoint:lowpoint+1,leftpoint:rightpoint+1]\n",
    "                                v = np.array(v[:,:,::changeresolution,::changeresolution])\n",
    "                            else:\n",
    "                                v = v[startpoint:endpoint+1,:,lowpoint:toppoint+1,leftpoint:rightpoint+1]\n",
    "                                v = np.array(v[:,:,::changeresolution,::changeresolution])\n",
    "                        else:\n",
    "                            v = v[startpoint:endpoint+1,:,leftpoint:rightpoint+1]\n",
    "                            v = np.array(v[:,:,::changeresolution])\n",
    "                    else:\n",
    "                        if iflat != 'no':\n",
    "                            if float(lat[0])>float(lat[1]):\n",
    "                                v = v[startpoint:endpoint+1,:,toppoint:lowpoint+1]\n",
    "                                v = np.array(v[:,:,::changeresolution])\n",
    "                            else:\n",
    "                                v = v[startpoint:endpoint+1,:,lowpoint:toppoint+1]\n",
    "                                v = np.array(v[:,:,::changeresolution])\n",
    "                        else:\n",
    "                            v = v[startpoint:endpoint+1,:]\n",
    "                            v = np.array(v)\n",
    "                else:\n",
    "                    if iflon != 'no':\n",
    "                        if iflat != 'no':\n",
    "                            if float(lat[0])>float(lat[1]):\n",
    "                                v = v[:,toppoint:lowpoint+1,leftpoint:rightpoint+1]\n",
    "                                v = np.array(v[:,::changeresolution,::changeresolution])\n",
    "                            else:\n",
    "                                v = v[:,lowpoint:toppoint+1,leftpoint:rightpoint+1]\n",
    "                                v = np.array(v[:,::changeresolution,::changeresolution])\n",
    "                        else:\n",
    "                            v = v[:,leftpoint:rightpoint+1]\n",
    "                            v = np.array(v[:,::changeresolution])\n",
    "                    else:\n",
    "                        if iflat != 'no':\n",
    "                            if float(lat[0])>float(lat[1]):\n",
    "                                v = v[:,toppoint:lowpoint+1]\n",
    "                                v = np.array(v[:,::changeresolution])\n",
    "                            else:\n",
    "                                v = v[:,lowpoint:toppoint+1]\n",
    "                                v = np.array(v[:,::changeresolution])\n",
    "                        else:\n",
    "                            v = v[:]\n",
    "                            v = np.array(v)\n",
    "        elif iflevel == 'self':\n",
    "            levelstart = 0\n",
    "            levelend = 0\n",
    "            for i in range(len(levels)):\n",
    "                if int(levels[i]) == level[0]:\n",
    "                    levelstart = i\n",
    "                if int(levels[i]) == level[1]:\n",
    "                    levelend = i\n",
    "            if ifexper == 'yes':\n",
    "                if float(lat[0])>float(lat[1]):\n",
    "                    v = v[startpoint:endpoint+1,0,levelstart:levelend+1,toppoint:lowpoint+1,leftpoint:rightpoint+1]\n",
    "                    v = np.array(v[:,:,::changeresolution,::changeresolution])\n",
    "                else:\n",
    "                    v = v[startpoint:endpoint+1,0,levelstart:levelend+1,lowpoint:toppoint+1,leftpoint:rightpoint+1]\n",
    "                    v = np.array(v[:,:,::changeresolution,::changeresolution])\n",
    "            elif ifexper == 'no':\n",
    "                if iftime != 'no':\n",
    "                    if iflon != 'no':\n",
    "                        if iflat != 'no':\n",
    "                            if float(lat[0])>float(lat[1]):\n",
    "                                v = v[startpoint:endpoint+1,levelstart:levelend+1,toppoint:lowpoint+1,leftpoint:rightpoint+1]\n",
    "                                v = np.array(v[:,:,::changeresolution,::changeresolution])\n",
    "                            else:\n",
    "                                v = v[startpoint:endpoint+1,levelstart:levelend+1,lowpoint:toppoint+1,leftpoint:rightpoint+1]\n",
    "                                v = np.array(v[:,:,::changeresolution,::changeresolution])\n",
    "                        else:\n",
    "                            v = v[startpoint:endpoint+1,levelstart:levelend+1,leftpoint:rightpoint+1]\n",
    "                            v = np.array(v[:,:,::changeresolution])\n",
    "                    else:\n",
    "                        if iflat != 'no':\n",
    "                            if float(lat[0])>float(lat[1]):\n",
    "                                v = v[startpoint:endpoint+1,levelstart:levelend+1,toppoint:lowpoint+1]\n",
    "                                v = np.array(v[:,:,::changeresolution])\n",
    "                            else:\n",
    "                                v = v[startpoint:endpoint+1,levelstart:levelend+1,lowpoint:toppoint+1]\n",
    "                                v = np.array(v[:,:,::changeresolution])\n",
    "                        else:\n",
    "                            v = v[startpoint:endpoint+1,levelstart:levelend+1]\n",
    "                            v = np.array(v)\n",
    "                else:\n",
    "                    if iflon != 'no':\n",
    "                        if iflat != 'no':\n",
    "                            if float(lat[0])>float(lat[1]):\n",
    "                                v = v[levelstart:levelend+1,toppoint:lowpoint+1,leftpoint:rightpoint+1]\n",
    "                                v = np.array(v[:,::changeresolution,::changeresolution])\n",
    "                            else:\n",
    "                                v = v[levelstart:levelend+1,lowpoint:toppoint+1,leftpoint:rightpoint+1]\n",
    "                                v = np.array(v[:,::changeresolution,::changeresolution])\n",
    "                        else:\n",
    "                            v = v[levelstart:levelend+1,leftpoint:rightpoint+1]\n",
    "                            v = np.array(v[:,::changeresolution])\n",
    "                    else:\n",
    "                        if iflat != 'no':\n",
    "                            if float(lat[0])>float(lat[1]):\n",
    "                                v = v[levelstart:levelend+1,toppoint:lowpoint+1]\n",
    "                                v = np.array(v[:,::changeresolution])\n",
    "                            else:\n",
    "                                v = v[levelstart:levelend+1,lowpoint:toppoint+1]\n",
    "                                v = np.array(v[:,::changeresolution])\n",
    "                        else:\n",
    "                            v = v[levelstart:levelend+1]\n",
    "                            v = np.array(v)\n",
    "            levels = levels[levelstart:levelend+1]\n",
    "        elif iflevel == 'selfchose':\n",
    "            selflevel = []\n",
    "            j=0\n",
    "            for i in range(len(levels)):\n",
    "                if j>= len(level):\n",
    "                    break\n",
    "                if int(levels[i]) == level[j]:\n",
    "                    selflevel.append(i)\n",
    "                    j=j+1\n",
    "            if ifexper == 'yes':\n",
    "                if float(lat[0])>float(lat[1]):\n",
    "                    v = v[startpoint:endpoint+1,0,selflevel,toppoint:lowpoint+1,leftpoint:rightpoint+1]\n",
    "                    v = np.array(v[:,:,::changeresolution,::changeresolution])\n",
    "                else:\n",
    "                    v = v[startpoint:endpoint+1,0,selflevel,lowpoint:toppoint+1,leftpoint:rightpoint+1]\n",
    "                    v = np.array(v[:,:,::changeresolution,::changeresolution])\n",
    "            elif ifexper == 'no':\n",
    "                if iftime != 'no':\n",
    "                    if iflon != 'no':\n",
    "                        if iflat != 'no':\n",
    "                            if float(lat[0])>float(lat[1]):\n",
    "                                v = v[startpoint:endpoint+1,selflevel,toppoint:lowpoint+1,leftpoint:rightpoint+1]\n",
    "                                v = np.array(v[:,:,::changeresolution,::changeresolution])\n",
    "                            else:\n",
    "                                v = v[startpoint:endpoint+1,selflevel,lowpoint:toppoint+1,leftpoint:rightpoint+1]\n",
    "                                v = np.array(v[:,:,::changeresolution,::changeresolution])\n",
    "                        else:\n",
    "                            v = v[startpoint:endpoint+1,selflevel,leftpoint:rightpoint+1]\n",
    "                            v = np.array(v[:,:,::changeresolution])\n",
    "                    else:\n",
    "                        if iflat != 'no':\n",
    "                            if float(lat[0])>float(lat[1]):\n",
    "                                v = v[startpoint:endpoint+1,selflevel,toppoint:lowpoint+1]\n",
    "                                v = np.array(v[:,:,::changeresolution])\n",
    "                            else:\n",
    "                                v = v[startpoint:endpoint+1,selflevel,lowpoint:toppoint+1]\n",
    "                                v = np.array(v[:,:,::changeresolution])\n",
    "                        else:\n",
    "                            v = v[startpoint:endpoint+1,selflevel]\n",
    "                            v = np.array(v)\n",
    "                else:\n",
    "                    if iflon != 'no':\n",
    "                        if iflat != 'no':\n",
    "                            if float(lat[0])>float(lat[1]):\n",
    "                                v = v[selflevel,toppoint:lowpoint+1,leftpoint:rightpoint+1]\n",
    "                                v = np.array(v[:,::changeresolution,::changeresolution])\n",
    "                            else:\n",
    "                                v = v[selflevel,lowpoint:toppoint+1,leftpoint:rightpoint+1]\n",
    "                                v = np.array(v[:,::changeresolution,::changeresolution])\n",
    "                        else:\n",
    "                            v = v[selflevel,leftpoint:rightpoint+1]\n",
    "                            v = np.array(v[:,::changeresolution])\n",
    "                    else:\n",
    "                        if iflat != 'no':\n",
    "                            if float(lat[0])>float(lat[1]):\n",
    "                                v = v[selflevel,toppoint:lowpoint+1]\n",
    "                                v = np.array(v[:,::changeresolution])\n",
    "                            else:\n",
    "                                v = v[selflevel,lowpoint:toppoint+1]\n",
    "                                v = np.array(v[:,::changeresolution])\n",
    "                        else:\n",
    "                            v = v[selflevel]\n",
    "                            v = np.array(v)\n",
    "            levels = levels[selflevel]\n",
    "    else:\n",
    "        if iflevel == 'yes' or iflevel == 'no':\n",
    "            if float(lat[0])>float(lat[1]):\n",
    "                v = v[startpoint:endpoint+1,toppoint:lowpoint+1,leftpoint:rightpoint+1]\n",
    "                v = np.array(v[:,::changeresolution,::changeresolution])\n",
    "            else:\n",
    "                v = v[startpoint:endpoint+1,lowpoint:toppoint+1,leftpoint:rightpoint+1]\n",
    "                v = np.array(v[:,::changeresolution,::changeresolution])\n",
    "        else:\n",
    "            if float(lat[0])>float(lat[1]):\n",
    "                v = v[startpoint:endpoint+1,:,toppoint:lowpoint+1,leftpoint:rightpoint+1]\n",
    "                v = np.array(v[:,:,::changeresolution,::changeresolution])\n",
    "            else:\n",
    "                v = v[startpoint:endpoint+1,:,lowpoint:toppoint+1,leftpoint:rightpoint+1]\n",
    "                v = np.array(v[:,:,::changeresolution,::changeresolution])\n",
    "    if iflon !='no':\n",
    "        lon = lon[leftpoint:rightpoint+1:changeresolution]\n",
    "    if iflat !='no':\n",
    "        if float(lat[0])>float(lat[1]):\n",
    "            lat = lat[toppoint:lowpoint+1:changeresolution]\n",
    "        else:\n",
    "            lat = lat[lowpoint:toppoint+1:changeresolution]\n",
    "    if ifchange_west_east =='yes':\n",
    "        if np.nanmin(lon)<0:\n",
    "            right = 360.0 - changeresolution*lonresolution\n",
    "            if iflevel == 'all' or iflevel == 'self' or iflevel == 'selfchose' or iflevel == 'create':\n",
    "                if iftime !='no':\n",
    "                    mid = int(v.shape[3]/2)\n",
    "                    lon = np.linspace(0.0,right,v.shape[3])\n",
    "                    vwest = v[:,:,:,0:mid]\n",
    "                    veast = v[:,:,:,mid:]\n",
    "                    v = np.concatenate((veast,vwest),axis=3)\n",
    "                    lonleft = 0.0\n",
    "                    lonright = right\n",
    "                else:\n",
    "                    mid = int(v.shape[2]/2)\n",
    "                    lon = np.linspace(0.0,right,v.shape[2])\n",
    "                    vwest = v[:,:,0:mid]\n",
    "                    veast = v[:,:,mid:]\n",
    "                    v = np.concatenate((veast,vwest),axis=2)\n",
    "                    lonleft = 0.0\n",
    "                    lonright = right\n",
    "            else:\n",
    "                if iftime !='no':\n",
    "                    mid = int(v.shape[2]/2)\n",
    "                    lon = np.linspace(0.0,right,v.shape[2])\n",
    "                    vwest = v[:,:,0:mid]\n",
    "                    veast = v[:,:,mid:]\n",
    "                    v = np.concatenate((veast,vwest),axis=2)\n",
    "                    lonleft = 0.0\n",
    "                    lonright = right\n",
    "                else:\n",
    "                    mid = int(v.shape[1]/2)\n",
    "                    lon = np.linspace(0.0,right,v.shape[1])\n",
    "                    vwest = v[:,0:mid]\n",
    "                    veast = v[:,mid:]\n",
    "                    v = np.concatenate((veast,vwest),axis=1)\n",
    "                    lonleft = 0.0\n",
    "                    lonright = right\n",
    "        else:\n",
    "            right = 180.0 - changeresolution*lonresolution\n",
    "            if iflevel == 'all' or iflevel == 'self' or iflevel == 'selfchose' or iflevel =='create':\n",
    "                if iftime !='no':\n",
    "                    mid = int(v.shape[3]/2)\n",
    "                    lon = np.linspace(-180.0,right,v.shape[3])\n",
    "                    veast = v[:,:,:,0:mid]\n",
    "                    vwest = v[:,:,:,mid:]\n",
    "                    v = np.concatenate((vwest,veast),axis=3)\n",
    "                    lonleft = -180.0\n",
    "                    lonright = right\n",
    "                else:\n",
    "                    mid = int(v.shape[2]/2)\n",
    "                    lon = np.linspace(-180.0,right,v.shape[2])\n",
    "                    veast = v[:,:,0:mid]\n",
    "                    vwest = v[:,:,mid:]\n",
    "                    v = np.concatenate((vwest,veast),axis=2)\n",
    "                    lonleft = -180.0\n",
    "                    lonright = right\n",
    "            else:\n",
    "                if iftime !='no':\n",
    "                    mid = int(v.shape[2]/2)\n",
    "                    lon = np.linspace(-180.0,right,v.shape[2])\n",
    "                    veast = v[:,:,0:mid]\n",
    "                    vwest = v[:,:,mid:]\n",
    "                    v = np.concatenate((vwest,veast),axis=2)\n",
    "                    lonleft = -180.0\n",
    "                    lonright = right\n",
    "                else:\n",
    "                    mid = int(v.shape[1]/2)\n",
    "                    lon = np.linspace(-180.0,right,v.shape[1])\n",
    "                    veast = v[:,0:mid]\n",
    "                    vwest = v[:,mid:]\n",
    "                    v = np.concatenate((vwest,veast),axis=1)\n",
    "                    lonleft = -180.0\n",
    "                    lonright = right\n",
    "    if iflevel == 'all' or iflevel == 'self' or iflevel == 'selfchose' or iflevel =='create':\n",
    "        if iftime !='no':\n",
    "            if iflat !='no':\n",
    "                if iflon !='no':\n",
    "                    v = xr.DataArray(v, [(timename,times),(levelname,levels),(latname,lat),(lonname,lon)])\n",
    "                else:\n",
    "                    v = xr.DataArray(v, [(timename,times),(levelname,levels),(latname,lat)])\n",
    "            else:\n",
    "                if iflon !='no':\n",
    "                    v = xr.DataArray(v, [(timename,times),(levelname,levels),(lonname,lon)])\n",
    "                else:\n",
    "                    v = xr.DataArray(v, [(timename,times),(levelname,levels)])\n",
    "        else:\n",
    "            if iflat !='no':\n",
    "                if iflon !='no':\n",
    "                    v = xr.DataArray(v, [(levelname,levels),(latname,lat),(lonname,lon)])\n",
    "                else:\n",
    "                    v = xr.DataArray(v, [(levelname,levels),(latname,lat)])\n",
    "            else:\n",
    "                if iflon !='no':\n",
    "                    v = xr.DataArray(v, [(levelname,levels),(lonname,lon)])\n",
    "                else:\n",
    "                    v = xr.DataArray(v, [(levelname,levels)])\n",
    "        levels = v[levelname]\n",
    "    else:\n",
    "        if iftime !='no':\n",
    "            if iflat !='no':\n",
    "                if iflon !='no':\n",
    "                    v = xr.DataArray(v, [(timename,times),(latname,lat),(lonname,lon)])\n",
    "                else:\n",
    "                    v = xr.DataArray(v, [(timename,times),(latname,lat)])\n",
    "            else:\n",
    "                if iflon !='no':\n",
    "                    v = xr.DataArray(v, [(timename,times),(lonname,lon)])\n",
    "                else:\n",
    "                    v = xr.DataArray(v, [(timename,times)])\n",
    "        else:\n",
    "            if iflat !='no':\n",
    "                if iflon !='no':\n",
    "                    v = xr.DataArray(v, [(latname,lat),(lonname,lon)])\n",
    "                else:\n",
    "                    v = xr.DataArray(v, [(latname,lat)])\n",
    "            else:\n",
    "                if iflon !='no':\n",
    "                    v = xr.DataArray(v, [(lonname,lon)])\n",
    "                else:\n",
    "                    v = None\n",
    "        levels = None\n",
    "    if iftime !='no':\n",
    "        times = v[timename]\n",
    "    else:\n",
    "        times = None\n",
    "    if iflon !='no':\n",
    "        lon = v[lonname]\n",
    "    else:\n",
    "        lon = None\n",
    "    if iflat !='no':\n",
    "        lat = v[latname]\n",
    "    else:\n",
    "        lat = None\n",
    "    return v,lon,lat,levels,latlow,lattop,lonleft,lonright,times"
   ]
  },
  {
   "cell_type": "code",
   "execution_count": 3,
   "id": "ddbc6c50",
   "metadata": {
    "ExecuteTime": {
     "end_time": "2023-12-07T08:04:26.730651Z",
     "start_time": "2023-12-07T08:04:00.469891Z"
    }
   },
   "outputs": [
    {
     "name": "stderr",
     "output_type": "stream",
     "text": [
      "F:\\anaconda\\Lib\\site-packages\\paramiko\\transport.py:219: CryptographyDeprecationWarning: Blowfish has been deprecated and will be removed in a future release\n",
      "  \"class\": algorithms.Blowfish,\n"
     ]
    },
    {
     "name": "stdout",
     "output_type": "stream",
     "text": [
      "(51136, 229, 377) (420, 229, 377) (51136, 229, 377) (51136, 229, 377) (51136, 229, 377) (51136, 229, 377)\n"
     ]
    }
   ],
   "source": [
    "slp,lon,lat,levels,latlow,lattop,lonleft,lonright,times=open_data_nc('one',r'E:\\ERA5-6hour\\Mean-sea-level-pressure.nc','msl','yes','time','1980-01-01-00','2014-12-31-18','yes','longitude','yes','latitude',-5.0,52.0,93.0,187.0,0.25,0.25,'no','no',None,None,changeresolution=1,timespace=1,ifchange_west_east='no',ifinterpolate='no')\n",
    "zsurf,lon,lat,levels,latlow,lattop,lonleft,lonright,times1=open_data_nc('one',r'F:\\ERA5 monthly averaged data on single levels from 1979 to present\\Geopotential.nc','z','yes','time','1980-01','2014-12','yes','longitude','yes','latitude',-5.0,52.0,93.0,187.0,0.25,0.25,'no','no',None,None,changeresolution=1,timespace=1,ifchange_west_east='no',ifinterpolate='no')\n",
    "z_300,lon,lat,levels,latlow,lattop,lonleft,lonright,times=open_data_nc('one',r'E:\\ERA5-6hour\\Geopotential-300hpa.nc','z','yes','time','1980-01-01-00','2014-12-31-18','yes','longitude','yes','latitude',-5.0,52.0,93.0,187.0,0.25,0.25,'no','no',None,None,changeresolution=1,timespace=1,ifchange_west_east='no',ifinterpolate='no')\n",
    "z_500,lon,lat,levels,latlow,lattop,lonleft,lonright,times=open_data_nc('one',r'E:\\ERA5-6hour\\Geopotential-500hpa.nc','z','yes','time','1980-01-01-00','2014-12-31-18','yes','longitude','yes','latitude',-5.0,52.0,93.0,187.0,0.25,0.25,'no','no',None,None,changeresolution=1,timespace=1,ifchange_west_east='no',ifinterpolate='no')\n",
    "u10m,lon,lat,levels,latlow,lattop,lonleft,lonright,times=open_data_nc('one',r'E:\\ERA5-6hour\\10m-u-component-of-wind.nc','u10','yes','time','1980-01-01-00','2014-12-31-18','yes','longitude','yes','latitude',-5.0,52.0,93.0,187.0,0.25,0.25,'no','no',None,None,changeresolution=1,timespace=1,ifchange_west_east='no',ifinterpolate='no')\n",
    "v10m,lon,lat,levels,latlow,lattop,lonleft,lonright,times=open_data_nc('one',r'E:\\ERA5-6hour\\10m-v-component-of-wind.nc','v10','yes','time','1980-01-01-00','2014-12-31-18','yes','longitude','yes','latitude',-5.0,52.0,93.0,187.0,0.25,0.25,'no','no',None,None,changeresolution=1,timespace=1,ifchange_west_east='no',ifinterpolate='no')\n",
    "print(slp.shape,zsurf.shape,z_300.shape,z_500.shape,u10m.shape,v10m.shape)\n",
    "zsurf=np.nanmean(zsurf,axis=0)/9.80665"
   ]
  },
  {
   "cell_type": "code",
   "execution_count": 4,
   "id": "10660dc4",
   "metadata": {
    "ExecuteTime": {
     "end_time": "2023-12-07T08:04:26.874715Z",
     "start_time": "2023-12-07T08:04:26.844043Z"
    }
   },
   "outputs": [],
   "source": [
    "def UZ_detect(slp,z_300,z_500,u10m,v10m,z_surf,lon,lat,times,slp_threshold):\n",
    "    import numpy as np\n",
    "    from tqdm import tqdm\n",
    "    \n",
    "    tc_times=[]\n",
    "    tc_lat=[]\n",
    "    tc_lon=[]\n",
    "    wind10m=np.sqrt((u10m)**2+(v10m)**2)\n",
    "    slp=np.array(slp)\n",
    "    z_300=np.array(z_300)\n",
    "    z_500=np.array(z_500)\n",
    "    u10m=np.array(u10m)\n",
    "    v10m=np.array(v10m)\n",
    "    z_surf=np.array(z_surf)\n",
    "    lon=np.array(lon)\n",
    "    lat=np.array(lat)\n",
    "    times=np.array(times)\n",
    "    for i in range(slp.shape[0]):\n",
    "        for j in range(int(np.ceil((6.5/np.abs(lat[1]-lat[0])))),int(slp.shape[1]-2*int(np.ceil((6.5/np.abs(lat[1]-lat[0]))))),int(np.ceil((6.5/np.abs(lat[1]-lat[0]))))):\n",
    "            for k in range(int(np.ceil((6.5/np.abs(lon[1]-lon[0])))),int(slp.shape[2]-2*int(np.ceil((6.5/np.abs(lon[1]-lon[0]))))),int(np.ceil((6.5/np.abs(lon[1]-lon[0]))))):\n",
    "                local_lat_index=j+(np.argmin(slp[i,j:j+int(np.ceil((6.5/np.abs(lat[1]-lat[0])))),k:k+int(np.ceil((6.5/np.abs(lon[1]-lon[0]))))])/(int(np.ceil((6.5/np.abs(lon[1]-lon[0]))))))\n",
    "                local_lon_index=k+(np.argmin(slp[i,j:j+int(np.ceil((6.5/np.abs(lat[1]-lat[0])))),k:k+int(np.ceil((6.5/np.abs(lon[1]-lon[0]))))])%(int(np.ceil((6.5/np.abs(lon[1]-lon[0]))))))\n",
    "                local_lat_index=int(local_lat_index)\n",
    "                local_lon_index=int(local_lon_index)\n",
    "                z_300_500_max=np.nanmax((z_300[i,(local_lat_index-int(np.ceil((1.0/np.abs(lat[1]-lat[0]))))):(local_lat_index+int(np.ceil((1.0/np.abs(lat[1]-lat[0]))))),(local_lon_index-int(np.ceil((1.0/np.abs(lon[1]-lon[0]))))):(local_lon_index+int(np.ceil((1.0/np.abs(lon[1]-lon[0])))))]-z_500[i,(local_lat_index-int(np.ceil((1.0/np.abs(lat[1]-lat[0]))))):(local_lat_index+int(np.ceil((1.0/np.abs(lat[1]-lat[0]))))),(local_lon_index-int(np.ceil((1.0/np.abs(lon[1]-lon[0]))))):(local_lon_index+int(np.ceil((1.0/np.abs(lon[1]-lon[0])))))]))\n",
    "                if (slp[i,local_lat_index-int(np.ceil((5.5/np.abs(lat[1]-lat[0])))),local_lon_index-int(np.ceil((5.5/np.abs(lon[1]-lon[0]))))]-slp[i,local_lat_index,local_lon_index])>=slp_threshold \\\n",
    "                and (slp[i,local_lat_index-int(np.ceil((5.5/np.abs(lat[1]-lat[0])))),local_lon_index]-slp[i,local_lat_index,local_lon_index])>=slp_threshold \\\n",
    "                and (slp[i,local_lat_index-int(np.ceil((5.5/np.abs(lat[1]-lat[0])))),local_lon_index+int(np.ceil((5.5/np.abs(lon[1]-lon[0]))))]-slp[i,local_lat_index,local_lon_index])>=slp_threshold \\\n",
    "                and (slp[i,local_lat_index,local_lon_index-int(np.ceil((5.5/np.abs(lon[1]-lon[0]))))]-slp[i,local_lat_index,local_lon_index])>=slp_threshold \\\n",
    "                and (slp[i,local_lat_index,local_lon_index+int(np.ceil((5.5/np.abs(lon[1]-lon[0]))))]-slp[i,local_lat_index,local_lon_index])>=slp_threshold \\\n",
    "                and (slp[i,local_lat_index+int(np.ceil((5.5/np.abs(lat[1]-lat[0])))),local_lon_index-int(np.ceil((5.5/np.abs(lon[1]-lon[0]))))]-slp[i,local_lat_index,local_lon_index])>=slp_threshold \\\n",
    "                and (slp[i,local_lat_index+int(np.ceil((5.5/np.abs(lat[1]-lat[0])))),local_lon_index]-slp[i,local_lat_index,local_lon_index])>=slp_threshold \\\n",
    "                and (slp[i,local_lat_index+int(np.ceil((5.5/np.abs(lat[1]-lat[0])))),local_lon_index+int(np.ceil((5.5/np.abs(lon[1]-lon[0]))))]-slp[i,local_lat_index,local_lon_index])>=slp_threshold \\\n",
    "                and z_300_500_max-(z_300[i,local_lat_index-int(np.ceil((6.5/np.abs(lat[1]-lat[0])))),local_lon_index-int(np.ceil((6.5/np.abs(lon[1]-lon[0]))))]-z_500[i,local_lat_index-int(np.ceil((6.5/np.abs(lat[1]-lat[0])))),local_lon_index-int(np.ceil((6.5/np.abs(lon[1]-lon[0]))))])>=278.8 \\\n",
    "                and z_300_500_max-(z_300[i,local_lat_index-int(np.ceil((6.5/np.abs(lat[1]-lat[0])))),local_lon_index]-z_500[i,local_lat_index-int(np.ceil((6.5/np.abs(lat[1]-lat[0])))),local_lon_index])>=278.8 \\\n",
    "                and z_300_500_max-(z_300[i,local_lat_index-int(np.ceil((6.5/np.abs(lat[1]-lat[0])))),local_lon_index+int(np.ceil((6.5/np.abs(lon[1]-lon[0]))))]-z_500[i,local_lat_index-int(np.ceil((6.5/np.abs(lat[1]-lat[0])))),local_lon_index+int(np.ceil((6.5/np.abs(lon[1]-lon[0]))))])>=278.8 \\\n",
    "                and z_300_500_max-(z_300[i,local_lat_index,local_lon_index-int(np.ceil((6.5/np.abs(lon[1]-lon[0]))))]-z_500[i,local_lat_index,local_lon_index-int(np.ceil((6.5/np.abs(lon[1]-lon[0]))))])>=278.8 \\\n",
    "                and z_300_500_max-(z_300[i,local_lat_index,local_lon_index+int(np.ceil((6.5/np.abs(lon[1]-lon[0]))))]-z_500[i,local_lat_index,local_lon_index+int(np.ceil((6.5/np.abs(lon[1]-lon[0]))))])>=278.8 \\\n",
    "                and z_300_500_max-(z_300[i,local_lat_index+int(np.ceil((6.5/np.abs(lat[1]-lat[0])))),local_lon_index-int(np.ceil((6.5/np.abs(lon[1]-lon[0]))))]-z_500[i,local_lat_index+int(np.ceil((6.5/np.abs(lat[1]-lat[0])))),local_lon_index-int(np.ceil((6.5/np.abs(lon[1]-lon[0]))))])>=278.8 \\\n",
    "                and z_300_500_max-(z_300[i,local_lat_index+int(np.ceil((6.5/np.abs(lat[1]-lat[0])))),local_lon_index]-z_500[i,local_lat_index+int(np.ceil((6.5/np.abs(lat[1]-lat[0])))),local_lon_index])>=278.8 \\\n",
    "                and z_300_500_max-(z_300[i,local_lat_index+int(np.ceil((6.5/np.abs(lat[1]-lat[0])))),local_lon_index+int(np.ceil((6.5/np.abs(lon[1]-lon[0]))))]-z_500[i,local_lat_index+int(np.ceil((6.5/np.abs(lat[1]-lat[0])))),local_lon_index+int(np.ceil((6.5/np.abs(lon[1]-lon[0]))))])>=278.8 \\\n",
    "                and np.nanmax(wind10m[i,local_lat_index-int(np.ceil((2.0/np.abs(lat[1]-lat[0])))):local_lat_index+int(np.ceil((2.0/np.abs(lat[1]-lat[0])))),local_lon_index-int(np.ceil((2.0/np.abs(lon[1]-lon[0])))):local_lon_index+int(np.ceil((2.0/np.abs(lon[1]-lon[0]))))]) >=17.0\\\n",
    "                and np.abs(lat[local_lat_index])<=50\\\n",
    "                and z_surf[local_lat_index,local_lon_index]<=150:\n",
    "                    local_lat=lat[local_lat_index]\n",
    "                    local_lon=lon[local_lon_index]\n",
    "                    new_local_lat_index=local_lat_index-int(np.ceil((6.0/np.abs(lat[1]-lat[0]))))+(np.argmin(slp[i,local_lat_index-int(np.ceil((6.0/np.abs(lat[1]-lat[0])))):local_lat_index+int(np.ceil((6.0/np.abs(lat[1]-lat[0])))),local_lon_index-int(np.ceil((6.0/np.abs(lon[1]-lon[0])))):local_lon_index+int(np.ceil((6.0/np.abs(lon[1]-lon[0]))))])/(2*int(np.ceil((6.0/np.abs(lon[1]-lon[0]))))))\n",
    "                    new_local_lon_index=local_lon_index-int(np.ceil((6.0/np.abs(lon[1]-lon[0]))))+(np.argmin(slp[i,local_lat_index-int(np.ceil((6.0/np.abs(lat[1]-lat[0])))):local_lat_index+int(np.ceil((6.0/np.abs(lat[1]-lat[0])))),local_lon_index-int(np.ceil((6.0/np.abs(lon[1]-lon[0])))):local_lon_index+int(np.ceil((6.0/np.abs(lon[1]-lon[0]))))])%(2*int(np.ceil((6.0/np.abs(lon[1]-lon[0]))))))\n",
    "                    new_local_lat_index=int(new_local_lat_index)\n",
    "                    new_local_lon_index=int(new_local_lon_index)\n",
    "                    if (new_local_lat_index==local_lat_index and new_local_lon_index==local_lon_index):\n",
    "                        tc_times.append(np.array(times[i]))\n",
    "                        tc_lat.append(local_lat)\n",
    "                        tc_lon.append(local_lon)\n",
    "    tc_times=np.array(tc_times)\n",
    "    tc_lat=np.array(tc_lat)\n",
    "    tc_lon=np.array(tc_lon)\n",
    "    \n",
    "    return tc_times,tc_lat,tc_lon"
   ]
  },
  {
   "cell_type": "code",
   "execution_count": 5,
   "id": "fcb4fb6c",
   "metadata": {
    "ExecuteTime": {
     "end_time": "2023-12-07T08:17:51.333921Z",
     "start_time": "2023-12-07T08:17:51.318869Z"
    }
   },
   "outputs": [],
   "source": [
    "def IBTrACS_read_point(filename,timename,latname,lonname,seasonname,timestartyear,timeendyear,space=1,timespace='day'):\n",
    "    import pandas as pd\n",
    "    import numpy as np\n",
    "    \n",
    "    ob_track=[]\n",
    "    ob_times=[]\n",
    "    ob_lat=[]\n",
    "    ob_lon=[]\n",
    "    file=pd.read_excel(filename)\n",
    "    if timespace=='day':\n",
    "        time=np.array(pd.to_datetime(np.array(file[timename])).strftime('%Y-%m-%d'))[space:]\n",
    "    elif timespace=='6hour' or timespace=='3hour':\n",
    "        time=np.array(pd.to_datetime(np.array(file[timename])).strftime('%Y-%m-%d-%H'))[space:]\n",
    "    lat=np.array(file[latname])[space:]\n",
    "    lon=np.array(file[lonname])[space:]\n",
    "    lon=np.where(lon<=0,lon+360.0,lon)\n",
    "    season=np.array(file[seasonname])[space:]\n",
    "    i=0\n",
    "    index=[]\n",
    "    if timespace=='6hour' or timespace=='3hour':\n",
    "        while i <time.shape[0]:\n",
    "            if int(season[i])>=timestartyear and int(season[i])<=timeendyear:\n",
    "                if timespace=='6hour':\n",
    "                    if int(np.array(pd.to_datetime(np.array(time[i])).strftime('%H')))==6 or \\\n",
    "                    int(np.array(pd.to_datetime(np.array(time[i])).strftime('%H')))==12 or \\\n",
    "                    int(np.array(pd.to_datetime(np.array(time[i])).strftime('%H')))==18 or \\\n",
    "                    int(np.array(pd.to_datetime(np.array(time[i])).strftime('%H')))==0 :\n",
    "                        index.append(i)\n",
    "                elif timespace=='3hour':\n",
    "                    index.append(i)\n",
    "            i=i+1\n",
    "        ob_times=time[index]\n",
    "        ob_lat=lat[index]\n",
    "        ob_lon=lon[index]\n",
    "    elif timespace=='day':\n",
    "        sub_index=[]\n",
    "        sub_index.append(i)\n",
    "        while i+1 <time.shape[0]:\n",
    "            if int(season[i])>=timestartyear and int(season[i])<=timeendyear:\n",
    "                if time[i]==time[i+1]:\n",
    "                    sub_index.append(i+1)\n",
    "                else:\n",
    "                    ob_times.append(time[i])\n",
    "                    ob_lat.append(np.nanmean(lat[sub_index]))\n",
    "                    ob_lon.append(np.nanmean(lon[sub_index]))\n",
    "                    sub_index=[]\n",
    "                    sub_index.append(i+1)\n",
    "            i=i+1\n",
    "        ob_times=np.array(ob_times)\n",
    "        ob_lat=np.array(ob_lat)\n",
    "        ob_lon=np.array(ob_lon)\n",
    "    \n",
    "    return ob_times,ob_lat,ob_lon"
   ]
  },
  {
   "cell_type": "code",
   "execution_count": 6,
   "id": "6c60a1a3",
   "metadata": {
    "ExecuteTime": {
     "end_time": "2023-12-07T08:17:55.066808Z",
     "start_time": "2023-12-07T08:17:51.556630Z"
    }
   },
   "outputs": [],
   "source": [
    "ob_times,ob_lat,ob_lon=IBTrACS_read_point(r'F:\\IBrACS\\ibtracs.1980-2019.list.v04r00.ts.wp.xlsx','ISO_TIME','LAT','LON','SEASON',1980,2014,space=0,timespace='6hour')"
   ]
  },
  {
   "cell_type": "code",
   "execution_count": 7,
   "id": "0b1c2a09",
   "metadata": {
    "ExecuteTime": {
     "end_time": "2023-12-07T08:17:55.307087Z",
     "start_time": "2023-12-07T08:17:55.292035Z"
    }
   },
   "outputs": [
    {
     "name": "stdout",
     "output_type": "stream",
     "text": [
      "(9285,)\n"
     ]
    }
   ],
   "source": [
    "print(ob_times.shape)"
   ]
  },
  {
   "cell_type": "code",
   "execution_count": 8,
   "id": "3dcff0dc",
   "metadata": {
    "ExecuteTime": {
     "end_time": "2023-12-07T08:17:55.546497Z",
     "start_time": "2023-12-07T08:17:55.531448Z"
    }
   },
   "outputs": [],
   "source": [
    "def TC_compare_point(tc_times,tc_lat,tc_lon,ob_times,ob_lat,ob_lon):\n",
    "    import numpy as np\n",
    "    from geopy.distance import geodesic\n",
    "    from collections import Counter\n",
    "    import pandas as pd\n",
    "\n",
    "    tc_times=np.array(tc_times)\n",
    "    tc_lat=np.array(tc_lat)\n",
    "    tc_lon=np.array(tc_lon)\n",
    "    ob_times=np.array(ob_times)\n",
    "    ob_lat=np.array(ob_lat)\n",
    "    ob_lon=np.array(ob_lon)\n",
    "    tc_class=np.full((tc_times.shape[0]),-1)\n",
    "    ob_class=np.full((ob_times.shape[0]),-1)\n",
    "    ob_times=np.array(pd.to_datetime(ob_times).strftime('%Y-%m-%d-%H'))\n",
    "    tc_times=np.array(pd.to_datetime(tc_times).strftime('%Y-%m-%d-%H'))\n",
    "    for i in range(tc_times.shape[0]):\n",
    "        tc_point_lat=tc_lat[i]\n",
    "        tc_point_lon=tc_lon[i]\n",
    "        ob_point_lat=ob_lat[tc_times[i]==ob_times]\n",
    "        ob_point_lon=ob_lon[tc_times[i]==ob_times]\n",
    "        ob_point_arg=np.argwhere(tc_times[i]==ob_times)\n",
    "        for k in range(ob_point_lat.shape[0]):\n",
    "            distance=np.array(geodesic((ob_point_lat[k],ob_point_lon[k]),(tc_point_lat,tc_point_lon)).km)\n",
    "            if distance<=300:\n",
    "                tc_class[i]=1\n",
    "                ob_class[ob_point_arg[k]]=1\n",
    "    FA_num=Counter(tc_class)[-1]\n",
    "    Hit_num=tc_class.shape[0]-FA_num\n",
    "    Miss_num=Counter(ob_class)[-1]\n",
    "    POD=Hit_num/(Hit_num+Miss_num)\n",
    "    FAR=FA_num/(Hit_num+FA_num)\n",
    "    \n",
    "    return tc_class,ob_class,POD,FAR"
   ]
  },
  {
   "cell_type": "code",
   "execution_count": 9,
   "id": "93e5e275",
   "metadata": {},
   "outputs": [],
   "source": [
    "def slp_threshold_chose(slp,z_300,z_500,u10m,v10m,z_surf,lon,lat,times,ob_times,ob_lat,ob_lon,slp_threshold_range):\n",
    "    import numpy as np\n",
    "    from tqdm import tqdm\n",
    "    \n",
    "    PODs=[]\n",
    "    FARs=[]\n",
    "    slp_threshold=np.arange(slp_threshold_range[0],slp_threshold_range[1],10.0)\n",
    "    for i in tqdm(range(slp_threshold.shape[0])):\n",
    "        tc_times,tc_lat,tc_lon=UZ_detect(slp,z_300,z_500,u10m,v10m,z_surf,lon,lat,times,slp_threshold[i])\n",
    "        tc_class,ob_class,POD,FAR=TC_compare_point(tc_times,tc_lat,tc_lon,ob_times,ob_lat,ob_lon)\n",
    "        print(POD,FAR)\n",
    "        PODs.append(POD)\n",
    "        FARs.append(FAR)\n",
    "    PODs=np.array(PODs)\n",
    "    FARs=np.array(FARs)\n",
    "    \n",
    "    return PODs,FARs,slp_threshold"
   ]
  },
  {
   "cell_type": "code",
   "execution_count": 17,
   "id": "a7e43f3e-3e62-4999-83fa-f37f624d5349",
   "metadata": {},
   "outputs": [
    {
     "name": "stderr",
     "output_type": "stream",
     "text": [
      "  5%|████                                                                            | 1/20 [06:27<2:02:44, 387.63s/it]"
     ]
    },
    {
     "name": "stdout",
     "output_type": "stream",
     "text": [
      "0.7917070543887992 0.28589469593938216\n"
     ]
    },
    {
     "name": "stderr",
     "output_type": "stream",
     "text": [
      " 10%|████████                                                                        | 2/20 [11:32<1:41:41, 338.96s/it]"
     ]
    },
    {
     "name": "stdout",
     "output_type": "stream",
     "text": [
      "0.7905223478729133 0.2852273833868926\n"
     ]
    },
    {
     "name": "stderr",
     "output_type": "stream",
     "text": [
      " 15%|████████████                                                                    | 3/20 [16:31<1:30:52, 320.73s/it]"
     ]
    },
    {
     "name": "stdout",
     "output_type": "stream",
     "text": [
      "0.7896607431340872 0.28391444476999705\n"
     ]
    },
    {
     "name": "stderr",
     "output_type": "stream",
     "text": [
      " 20%|████████████████                                                                | 4/20 [21:29<1:23:05, 311.58s/it]"
     ]
    },
    {
     "name": "stdout",
     "output_type": "stream",
     "text": [
      "0.7881529348411416 0.28198587127158553\n"
     ]
    },
    {
     "name": "stderr",
     "output_type": "stream",
     "text": [
      " 25%|████████████████████                                                            | 5/20 [26:26<1:16:37, 306.47s/it]"
     ]
    },
    {
     "name": "stdout",
     "output_type": "stream",
     "text": [
      "0.7869682283252558 0.28045297882816345\n"
     ]
    },
    {
     "name": "stderr",
     "output_type": "stream",
     "text": [
      " 30%|████████████████████████                                                        | 6/20 [31:23<1:10:44, 303.20s/it]"
     ]
    },
    {
     "name": "stdout",
     "output_type": "stream",
     "text": [
      "0.7852450188476037 0.2798301066772027\n"
     ]
    },
    {
     "name": "stderr",
     "output_type": "stream",
     "text": [
      " 35%|████████████████████████████                                                    | 7/20 [36:20<1:05:17, 301.36s/it]"
     ]
    },
    {
     "name": "stdout",
     "output_type": "stream",
     "text": [
      "0.7835218093699515 0.27863163113534956\n"
     ]
    },
    {
     "name": "stderr",
     "output_type": "stream",
     "text": [
      " 40%|████████████████████████████████                                                | 8/20 [41:18<1:00:00, 300.05s/it]"
     ]
    },
    {
     "name": "stdout",
     "output_type": "stream",
     "text": [
      "0.7814754981152396 0.27757865392273995\n"
     ]
    },
    {
     "name": "stderr",
     "output_type": "stream",
     "text": [
      " 45%|████████████████████████████████████▉                                             | 9/20 [46:17<54:57, 299.78s/it]"
     ]
    },
    {
     "name": "stdout",
     "output_type": "stream",
     "text": [
      "0.7792137856758212 0.27707833733013587\n"
     ]
    },
    {
     "name": "stderr",
     "output_type": "stream",
     "text": [
      " 50%|████████████████████████████████████████▌                                        | 10/20 [51:14<49:48, 298.86s/it]"
     ]
    },
    {
     "name": "stdout",
     "output_type": "stream",
     "text": [
      "0.7779213785675821 0.2757445101774792\n"
     ]
    },
    {
     "name": "stderr",
     "output_type": "stream",
     "text": [
      " 55%|████████████████████████████████████████████▌                                    | 11/20 [56:12<44:48, 298.76s/it]"
     ]
    },
    {
     "name": "stdout",
     "output_type": "stream",
     "text": [
      "0.7766289714593431 0.2735972599979853\n"
     ]
    },
    {
     "name": "stderr",
     "output_type": "stream",
     "text": [
      " 60%|███████████████████████████████████████████████▍                               | 12/20 [1:01:10<39:47, 298.44s/it]"
     ]
    },
    {
     "name": "stdout",
     "output_type": "stream",
     "text": [
      "0.7751211631663975 0.27214805825242716\n"
     ]
    },
    {
     "name": "stderr",
     "output_type": "stream",
     "text": [
      " 65%|███████████████████████████████████████████████████▎                           | 13/20 [1:06:09<34:49, 298.57s/it]"
     ]
    },
    {
     "name": "stdout",
     "output_type": "stream",
     "text": [
      "0.7733979536887453 0.27096446700507615\n"
     ]
    },
    {
     "name": "stderr",
     "output_type": "stream",
     "text": [
      " 70%|███████████████████████████████████████████████████████▎                       | 14/20 [1:11:05<29:47, 297.88s/it]"
     ]
    },
    {
     "name": "stdout",
     "output_type": "stream",
     "text": [
      "0.7717824448034464 0.2692229247399551\n"
     ]
    },
    {
     "name": "stderr",
     "output_type": "stream",
     "text": [
      " 75%|███████████████████████████████████████████████████████████▎                   | 15/20 [1:16:03<24:48, 297.79s/it]"
     ]
    },
    {
     "name": "stdout",
     "output_type": "stream",
     "text": [
      "0.7698438341410878 0.26762295081967213\n"
     ]
    },
    {
     "name": "stderr",
     "output_type": "stream",
     "text": [
      " 80%|███████████████████████████████████████████████████████████████▏               | 16/20 [1:21:00<19:50, 297.58s/it]"
     ]
    },
    {
     "name": "stdout",
     "output_type": "stream",
     "text": [
      "0.7681206246634357 0.26633062442135585\n"
     ]
    },
    {
     "name": "stderr",
     "output_type": "stream",
     "text": [
      " 85%|███████████████████████████████████████████████████████████████████▏           | 17/20 [1:25:57<14:52, 297.45s/it]"
     ]
    },
    {
     "name": "stdout",
     "output_type": "stream",
     "text": [
      "0.7662897145934303 0.2649033991114785\n"
     ]
    },
    {
     "name": "stderr",
     "output_type": "stream",
     "text": [
      " 90%|███████████████████████████████████████████████████████████████████████        | 18/20 [1:30:54<09:54, 297.28s/it]"
     ]
    },
    {
     "name": "stdout",
     "output_type": "stream",
     "text": [
      "0.7634894991922455 0.2638629283489097\n"
     ]
    },
    {
     "name": "stderr",
     "output_type": "stream",
     "text": [
      " 95%|███████████████████████████████████████████████████████████████████████████    | 19/20 [1:35:50<04:57, 297.01s/it]"
     ]
    },
    {
     "name": "stdout",
     "output_type": "stream",
     "text": [
      "0.7619816908992999 0.261867501304121\n"
     ]
    },
    {
     "name": "stderr",
     "output_type": "stream",
     "text": [
      "100%|███████████████████████████████████████████████████████████████████████████████| 20/20 [1:40:47<00:00, 302.38s/it]"
     ]
    },
    {
     "name": "stdout",
     "output_type": "stream",
     "text": [
      "0.7600430802369413 0.2607374816677142\n"
     ]
    },
    {
     "name": "stderr",
     "output_type": "stream",
     "text": [
      "\n"
     ]
    }
   ],
   "source": [
    "PODs,FARs,slp_threshold=slp_threshold_chose(slp,z_300,z_500,u10m,v10m,zsurf,lon,lat,times,ob_times,ob_lat,ob_lon,[900,1100])"
   ]
  },
  {
   "cell_type": "code",
   "execution_count": 18,
   "id": "6fd42666-c646-4f02-aa4f-f22350daec3f",
   "metadata": {},
   "outputs": [],
   "source": [
    "pod=[0.8064620355411954,0.8060312331717825,0.8053850296176629,0.8051696284329564,0.8048465266558966,0.8046311254711901,0.804200323101777,0.8039849219170705,0.8030156165858913,0.8023694130317717,0.8011847065158858,0.8,0.7991383952611739,0.7982767905223479,0.7974151857835218,0.7963381798599892,0.7949380721593968,0.7943995691976306,0.7936456650511577,0.792460958535272,0.7917070543887992,0.7905223478729133,0.7896607431340872,0.7881529348411416,0.7869682283252558,0.7852450188476037,0.7835218093699515,0.7814754981152396,0.7792137856758212,0.7779213785675821,0.7766289714593431,0.7751211631663975,0.7733979536887453,0.7717824448034464,0.7698438341410878,0.7681206246634357,0.7662897145934303,0.7634894991922455,0.7619816908992999,0.7600430802369413]\n",
    "far=[0.3082039911308204,0.3069086867938507,0.3057927961381359,0.30501069071302406,0.3039307004470939,0.30281821575214635,0.3012352610892757,0.3001781194337677,0.2987208427389014,0.29783223374175305,0.2969473584727341,0.2955235204855842,0.29507885236557096,0.2938262195121951,0.2929042116321268,0.29257558362035974,0.29192248656945513,0.2900182885744538,0.2889124770819261,0.28749878958071073,0.28589469593938216,0.2852273833868926,0.28391444476999705,0.28198587127158553,0.28045297882816345,0.2798301066772027,0.27863163113534956,0.27757865392273995,0.27707833733013587,0.2757445101774792,0.2735972599979853,0.27214805825242716,0.27096446700507615,0.2692229247399551,0.26762295081967213,0.26633062442135585,0.2649033991114785,0.2638629283489097,0.261867501304121,0.2607374816677142]"
   ]
  },
  {
   "cell_type": "code",
   "execution_count": 19,
   "id": "b7265c1f-1db4-4e75-8bb9-283f30b1c7ad",
   "metadata": {},
   "outputs": [
    {
     "name": "stdout",
     "output_type": "stream",
     "text": [
      "40\n"
     ]
    }
   ],
   "source": [
    "print(len(far))"
   ]
  },
  {
   "cell_type": "code",
   "execution_count": 20,
   "id": "e7fe73c4",
   "metadata": {},
   "outputs": [
    {
     "name": "stdout",
     "output_type": "stream",
     "text": [
      "[0.8064620355411954, 0.8060312331717825, 0.8053850296176629, 0.8051696284329564, 0.8048465266558966, 0.8046311254711901, 0.804200323101777, 0.8039849219170705, 0.8030156165858913, 0.8023694130317717, 0.8011847065158858, 0.8, 0.7991383952611739, 0.7982767905223479, 0.7974151857835218, 0.7963381798599892, 0.7949380721593968, 0.7943995691976306, 0.7936456650511577, 0.792460958535272, 0.7917070543887992, 0.7905223478729133, 0.7896607431340872, 0.7881529348411416, 0.7869682283252558, 0.7852450188476037, 0.7835218093699515, 0.7814754981152396, 0.7792137856758212, 0.7779213785675821, 0.7766289714593431, 0.7751211631663975, 0.7733979536887453, 0.7717824448034464, 0.7698438341410878, 0.7681206246634357, 0.7662897145934303, 0.7634894991922455, 0.7619816908992999, 0.7600430802369413]\n",
      "[0.3082039911308204, 0.3069086867938507, 0.3057927961381359, 0.30501069071302406, 0.3039307004470939, 0.30281821575214635, 0.3012352610892757, 0.3001781194337677, 0.2987208427389014, 0.29783223374175305, 0.2969473584727341, 0.2955235204855842, 0.29507885236557096, 0.2938262195121951, 0.2929042116321268, 0.29257558362035974, 0.29192248656945513, 0.2900182885744538, 0.2889124770819261, 0.28749878958071073, 0.28589469593938216, 0.2852273833868926, 0.28391444476999705, 0.28198587127158553, 0.28045297882816345, 0.2798301066772027, 0.27863163113534956, 0.27757865392273995, 0.27707833733013587, 0.2757445101774792, 0.2735972599979853, 0.27214805825242716, 0.27096446700507615, 0.2692229247399551, 0.26762295081967213, 0.26633062442135585, 0.2649033991114785, 0.2638629283489097, 0.261867501304121, 0.2607374816677142]\n",
      "[0.49825804 0.49912255 0.49959223 0.50015894 0.50091583 0.50181291\n",
      " 0.50296506 0.5038068  0.50429477 0.50453718 0.50423735 0.50447648\n",
      " 0.50405954 0.50445057 0.50451097 0.5037626  0.50301559 0.50438128\n",
      " 0.50473319 0.50496217 0.50581236 0.50529496 0.5057463  0.50616706\n",
      " 0.50651525 0.50541491 0.50489018 0.50389684 0.50213545 0.50217687\n",
      " 0.50303171 0.5029731  0.50243349 0.50255952 0.50222088 0.50179\n",
      " 0.50138632 0.49962657 0.50011419 0.4993056 ]\n",
      "240.0\n"
     ]
    }
   ],
   "source": [
    "print(pod)\n",
    "print(far)\n",
    "print(np.array(pod)-np.array(far))\n",
    "print(np.argmax(np.array(pod)-np.array(far))*10.0)"
   ]
  },
  {
   "cell_type": "code",
   "execution_count": 24,
   "id": "dd32045c-0e3f-4919-a8d4-a6fde33cb48b",
   "metadata": {},
   "outputs": [],
   "source": [
    "slp_threshold=np.arange(700,1100,10.0)"
   ]
  },
  {
   "cell_type": "code",
   "execution_count": 22,
   "id": "7a3c76ff-14da-495f-85c1-77937a6f5657",
   "metadata": {},
   "outputs": [
    {
     "name": "stdout",
     "output_type": "stream",
     "text": [
      "20 40 40\n"
     ]
    }
   ],
   "source": [
    "print(len(slp_threshold),len(pod),len(far))"
   ]
  },
  {
   "cell_type": "code",
   "execution_count": 25,
   "id": "cda11134-e72d-4a8e-9467-f6496cf7c8ee",
   "metadata": {
    "scrolled": true
   },
   "outputs": [
    {
     "name": "stderr",
     "output_type": "stream",
     "text": [
      "F:\\anaconda\\Lib\\site-packages\\seaborn\\_oldcore.py:1119: FutureWarning: use_inf_as_na option is deprecated and will be removed in a future version. Convert inf values to NaN before operating instead.\n",
      "  with pd.option_context('mode.use_inf_as_na', True):\n",
      "F:\\anaconda\\Lib\\site-packages\\seaborn\\_oldcore.py:1119: FutureWarning: use_inf_as_na option is deprecated and will be removed in a future version. Convert inf values to NaN before operating instead.\n",
      "  with pd.option_context('mode.use_inf_as_na', True):\n",
      "F:\\anaconda\\Lib\\site-packages\\seaborn\\_oldcore.py:1119: FutureWarning: use_inf_as_na option is deprecated and will be removed in a future version. Convert inf values to NaN before operating instead.\n",
      "  with pd.option_context('mode.use_inf_as_na', True):\n",
      "F:\\anaconda\\Lib\\site-packages\\seaborn\\_oldcore.py:1119: FutureWarning: use_inf_as_na option is deprecated and will be removed in a future version. Convert inf values to NaN before operating instead.\n",
      "  with pd.option_context('mode.use_inf_as_na', True):\n",
      "F:\\anaconda\\Lib\\site-packages\\seaborn\\_oldcore.py:1119: FutureWarning: use_inf_as_na option is deprecated and will be removed in a future version. Convert inf values to NaN before operating instead.\n",
      "  with pd.option_context('mode.use_inf_as_na', True):\n",
      "F:\\anaconda\\Lib\\site-packages\\seaborn\\_oldcore.py:1119: FutureWarning: use_inf_as_na option is deprecated and will be removed in a future version. Convert inf values to NaN before operating instead.\n",
      "  with pd.option_context('mode.use_inf_as_na', True):\n"
     ]
    },
    {
     "data": {
      "text/plain": [
       "<Axes: >"
      ]
     },
     "execution_count": 25,
     "metadata": {},
     "output_type": "execute_result"
    },
    {
     "data": {
      "image/png": "[encoded data removed]",
      "text/plain": [
       "<Figure size 640x480 with 1 Axes>"
      ]
     },
     "metadata": {},
     "output_type": "display_data"
    }
   ],
   "source": [
    "import seaborn\n",
    "seaborn.lineplot(x=slp_threshold, y=pod)\n",
    "seaborn.lineplot(x=slp_threshold, y=far)\n",
    "seaborn.lineplot(x=slp_threshold, y=np.array(pod)-np.array(far))"
   ]
  },
  {
   "cell_type": "code",
   "execution_count": null,
   "id": "14095c87-fa4b-40ca-9c44-d6ea3a714232",
   "metadata": {},
   "outputs": [],
   "source": []
  }
 ],
 "metadata": {
  "kernelspec": {
   "display_name": "Python 3 (ipykernel)",
   "language": "python",
   "name": "python3"
  },
  "language_info": {
   "codemirror_mode": {
    "name": "ipython",
    "version": 3
   },
   "file_extension": ".py",
   "mimetype": "text/x-python",
   "name": "python",
   "nbconvert_exporter": "python",
   "pygments_lexer": "ipython3",
   "version": "3.11.7"
  },
  "toc": {
   "base_numbering": 1,
   "nav_menu": {},
   "number_sections": true,
   "sideBar": true,
   "skip_h1_title": false,
   "title_cell": "Table of Contents",
   "title_sidebar": "Contents",
   "toc_cell": false,
   "toc_position": {},
   "toc_section_display": true,
   "toc_window_display": false
  },
  "varInspector": {
   "cols": {
    "lenName": 16,
    "lenType": 16,
    "lenVar": 40
   },
   "kernels_config": {
    "python": {
     "delete_cmd_postfix": "",
     "delete_cmd_prefix": "del ",
     "library": "var_list.py",
     "varRefreshCmd": "print(var_dic_list())"
    },
    "r": {
     "delete_cmd_postfix": ") ",
     "delete_cmd_prefix": "rm(",
     "library": "var_list.r",
     "varRefreshCmd": "cat(var_dic_list()) "
    }
   },
   "types_to_exclude": [
    "module",
    "function",
    "builtin_function_or_method",
    "instance",
    "_Feature"
   ],
   "window_display": false
  }
 },
 "nbformat": 4,
 "nbformat_minor": 5
}
