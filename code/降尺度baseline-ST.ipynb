{
 "cells": [
  {
   "cell_type": "code",
   "execution_count": 1,
   "id": "1821f812-78b4-492a-818d-36e88a3516be",
   "metadata": {},
   "outputs": [],
   "source": [
    "import Auto_paint_self\n",
    "slp,lon,lat,levels,latlow,lattop,lonleft,lonright,times=Auto_paint_self.open_data_nc('one',r'E:\\ERA5-6hour\\Mean-sea-level-pressure.nc','msl','yes','time','1980-01-01-00','2014-12-31-18','yes','longitude','yes','latitude',-5.0,53.0,93.0,187.0,0.25,0.25,'no','no',None,None,changeresolution=2,timespace=1,ifchange_west_east='no',ifinterpolate='no')"
   ]
  },
  {
   "cell_type": "code",
   "execution_count": 2,
   "id": "267da5a5-1f47-49eb-aef3-033b5f23af72",
   "metadata": {},
   "outputs": [
    {
     "name": "stdout",
     "output_type": "stream",
     "text": [
      "(51132, 116, 188, 5) (51132, 58, 94, 2)\n"
     ]
    }
   ],
   "source": [
    "import numpy as np\n",
    "slp_HR=np.zeros((slp.shape[0]-4,slp.shape[1]-1,slp.shape[2]-1,5))\n",
    "slp_HR[:,:,:,0]=slp[:-4,:-1,:-1]\n",
    "slp_HR[:,:,:,1]=slp[1:-3,:-1,:-1]\n",
    "slp_HR[:,:,:,2]=slp[2:-2,:-1,:-1]\n",
    "slp_HR[:,:,:,3]=slp[3:-1,:-1,:-1]\n",
    "slp_HR[:,:,:,4]=slp[4:,:-1,:-1]\n",
    "slp_LR=np.zeros((slp.shape[0]-4,int((slp.shape[1]-1)/2),int((slp.shape[2]-1)/2),2))\n",
    "slp_LR[:,:,:,0]=slp[:-4,:-1:2,:-1:2]\n",
    "slp_LR[:,:,:,1]=slp[4:,:-1:2,:-1:2]\n",
    "print(slp_HR.shape,slp_LR.shape)"
   ]
  },
  {
   "cell_type": "code",
   "execution_count": 3,
   "id": "a4bf7ac3-9e1a-48f5-89fd-530bc077c73c",
   "metadata": {},
   "outputs": [],
   "source": [
    "import numpy as np\n",
    "slp_HR=(slp_HR-np.nanmean(slp_HR,axis=0))/np.nanstd(slp_HR,axis=0)\n",
    "slp_LR=(slp_LR-np.nanmean(slp_LR,axis=0))/np.nanstd(slp_LR,axis=0)"
   ]
  },
  {
   "cell_type": "code",
   "execution_count": 4,
   "id": "bf9ec8be-602f-46ca-9bc3-0b92d0b5a50a",
   "metadata": {},
   "outputs": [],
   "source": [
    "slp_HR=np.array(slp_HR)\n",
    "slp_LR=np.array(slp_LR)"
   ]
  },
  {
   "cell_type": "code",
   "execution_count": 5,
   "id": "6bf207b0-0eb0-4b71-9ebc-1445e5260cf5",
   "metadata": {},
   "outputs": [],
   "source": [
    "index=int((1-0.2)*slp_HR.shape[0])\n",
    "trainy=slp_HR[:index,:,:,:]\n",
    "testy=slp_HR[index:,:,:,:]\n",
    "trainx=slp_LR[:index,:,:,:]\n",
    "testx=slp_LR[index:,:,:,:]"
   ]
  },
  {
   "cell_type": "code",
   "execution_count": 6,
   "id": "d783b5e0-2d73-4123-a29b-ca60e7b8b7bf",
   "metadata": {},
   "outputs": [
    {
     "name": "stdout",
     "output_type": "stream",
     "text": [
      "(10227, 58, 94, 2)\n"
     ]
    }
   ],
   "source": [
    "print(testx.shape)"
   ]
  },
  {
   "cell_type": "code",
   "execution_count": 7,
   "id": "4a5f3382-d6cb-4ef8-94d7-0ac7a8e3e38f",
   "metadata": {},
   "outputs": [],
   "source": [
    "time_LR=np.array(times[index:-4])\n",
    "#levels=np.array([0,1,2,3,4])\n",
    "#lat_HR=np.array(lat[:-1])\n",
    "#lon_HR=np.array(lon[:-1])\n",
    "lat_LR=np.array(lat[:-1:2])\n",
    "lon_LR=np.array(lon[:-1:2])"
   ]
  },
  {
   "cell_type": "code",
   "execution_count": 9,
   "id": "f39ad8a9-517f-4b74-97a3-087c3d72288e",
   "metadata": {},
   "outputs": [],
   "source": [
    "#import xarray as xr\n",
    "#testx_mid=np.zeros((testy.shape[0],testy.shape[1],testy.shape[2],2))\n",
    "#testx1=xr.DataArray(np.array(testx[:,:,:,0]), [('time',time_LR),('latitude',lat_LR),('longitude',lon_LR)])\n",
    "#testx2=xr.DataArray(np.array(testx[:,:,:,1]), [('time',time_LR),('latitude',lat_LR),('longitude',lon_LR)])\n",
    "testx_mid[:,:,:,0]=testx1.interp(latitude=np.arange(53.0,-5.0,-0.5),longitude=np.arange(93.0,187.0,0.5),method='linear')\n",
    "testx_mid[:,:,:,1]=testx2.interp(latitude=np.arange(53.0,-5.0,-0.5),longitude=np.arange(93.0,187.0,0.5),method='linear')"
   ]
  },
  {
   "cell_type": "code",
   "execution_count": 10,
   "id": "f9b9fb49-1c93-4640-bd7a-37235ef13ac8",
   "metadata": {},
   "outputs": [
    {
     "name": "stdout",
     "output_type": "stream",
     "text": [
      "(10227, 116, 188, 2)\n"
     ]
    }
   ],
   "source": [
    "print(testx_mid.shape)"
   ]
  },
  {
   "cell_type": "code",
   "execution_count": 11,
   "id": "8eb77d52-f7de-4abb-a776-1056e1f41403",
   "metadata": {},
   "outputs": [],
   "source": [
    "def Auto_optical_flow(vx,vy=None):\n",
    "    import cv2\n",
    "    import numpy as np\n",
    "    from scipy.stats import pearsonr\n",
    "\n",
    "    middle_frame=np.zeros((vx.shape[0],vx.shape[1],vx.shape[2]))\n",
    "    for i in range(vx.shape[0]):\n",
    "        flow = cv2.calcOpticalFlowFarneback(vx[i,:,:,0], vx[i,:,:,1], None, 0.5, 3, 15, 3, 5, 1.1, 0)\n",
    "        flow_horizontal = flow[..., 0]\n",
    "        flow_vertical = flow[..., 1]\n",
    "        height, width = vx[i,:,:,:].shape[:2]\n",
    "        grid_x, grid_y = np.meshgrid(np.arange(width), np.arange(height))\n",
    "        half_flow_horizontal = grid_x + flow_horizontal * 0.5\n",
    "        half_flow_vertical = grid_y + flow_vertical * 0.5\n",
    "        middle_frame[i,:,:] = cv2.remap(vx[i,:,:,0], half_flow_horizontal.astype(np.float32), half_flow_vertical.astype(np.float32), interpolation=cv2.INTER_LINEAR)  \n",
    "    try:\n",
    "        r=np.zeros((vy.shape[1],vy.shape[2]))\n",
    "        p=np.zeros((vy.shape[1],vy.shape[2]))\n",
    "        for i in range(vy.shape[1]):\n",
    "            for j in range(vy.shape[2]):\n",
    "                r[i,j],p[i,j] = pearsonr(middle_frame[:,i,j],vy[:,i,j])\n",
    "                r=np.nan_to_num(r,nan=0)\n",
    "    except:\n",
    "        r=0\n",
    "        p=0\n",
    "        \n",
    "    return middle_frame,vy,r,p"
   ]
  },
  {
   "cell_type": "code",
   "execution_count": 12,
   "id": "9120fc60-f35d-4f4c-bcdf-c2a4a5f175ea",
   "metadata": {},
   "outputs": [],
   "source": [
    "middle_frame_mid,vy,r,p=Auto_optical_flow(testx_mid,vy=None)"
   ]
  },
  {
   "cell_type": "code",
   "execution_count": 13,
   "id": "939cb35d-0bc1-4a1f-923b-7a55e5ec018c",
   "metadata": {},
   "outputs": [
    {
     "name": "stdout",
     "output_type": "stream",
     "text": [
      "(10227, 116, 188)\n"
     ]
    }
   ],
   "source": [
    "print(middle_frame_mid.shape)"
   ]
  },
  {
   "cell_type": "code",
   "execution_count": 14,
   "id": "fcd8e07a-ce63-4ef7-83ea-6325da3eab70",
   "metadata": {},
   "outputs": [],
   "source": [
    "testx_s_d_0=np.zeros((testy.shape[0],testy.shape[1],testy.shape[2],2))\n",
    "testx_s_d_1=np.zeros((testy.shape[0],testy.shape[1],testy.shape[2],2))\n",
    "testx_s_d_0[:,:,:,0]=testx_mid[:,:,:,0]\n",
    "testx_s_d_0[:,:,:,1]=middle_frame_mid\n",
    "testx_s_d_1[:,:,:,0]=middle_frame_mid\n",
    "testx_s_d_1[:,:,:,1]=testx_mid[:,:,:,1]"
   ]
  },
  {
   "cell_type": "code",
   "execution_count": 15,
   "id": "6e382871-6d6f-427d-aba7-cb7e4d39d47b",
   "metadata": {},
   "outputs": [],
   "source": [
    "predicty=np.zeros((testy.shape[0],testy.shape[1],testy.shape[2],5))\n",
    "predicty[:,:,:,0]=testx_mid[:,:,:,0]\n",
    "predicty[:,:,:,1],vy,r,p=Auto_optical_flow(testx_s_d_0,vy=None)\n",
    "predicty[:,:,:,2]=middle_frame_mid\n",
    "predicty[:,:,:,3],vy,r,p=Auto_optical_flow(testx_s_d_1,vy=None)\n",
    "predicty[:,:,:,4]=testx_mid[:,:,:,1]"
   ]
  },
  {
   "cell_type": "code",
   "execution_count": 16,
   "id": "14b2ddd8-cb32-46b8-93fa-a6c4090cc265",
   "metadata": {},
   "outputs": [],
   "source": [
    "mse_mid=np.zeros((testy.shape[1]-2,testy.shape[2]-2,3))\n",
    "pearson_mid=np.zeros((testy.shape[1]-2,testy.shape[2]-2,3))\n",
    "psnr_mid=np.zeros((3))\n",
    "ssim_mid=np.zeros((3))\n",
    "mse=np.zeros((testy.shape[1]-2,testy.shape[2]-2,5))\n",
    "pearson=np.zeros((testy.shape[1]-2,testy.shape[2]-2,5))\n",
    "psnr=np.zeros((5))\n",
    "ssim=np.zeros((5))"
   ]
  },
  {
   "cell_type": "code",
   "execution_count": 17,
   "id": "feb18025-3f2a-4836-a9c9-c7198a6661d2",
   "metadata": {},
   "outputs": [
    {
     "name": "stdout",
     "output_type": "stream",
     "text": [
      "True\n",
      "6197562\n",
      "1115152080\n",
      "0.005557593543653705\n"
     ]
    }
   ],
   "source": [
    "print(np.isnan(predicty).any())\n",
    "print(np.sum(np.isnan(predicty)))\n",
    "print(predicty.shape[0]*predicty.shape[1]*predicty.shape[2]*predicty.shape[3])\n",
    "print(np.sum(np.isnan(predicty))/(predicty.shape[0]*predicty.shape[1]*predicty.shape[2]*predicty.shape[3]))"
   ]
  },
  {
   "cell_type": "code",
   "execution_count": 18,
   "id": "d379546a-1b05-49f8-b1a3-f44286a9dab5",
   "metadata": {},
   "outputs": [
    {
     "name": "stderr",
     "output_type": "stream",
     "text": [
      "100%|████████████████████████████████████████████████████████████████████████████████████| 5/5 [07:26<00:00, 89.33s/it]"
     ]
    },
    {
     "name": "stdout",
     "output_type": "stream",
     "text": [
      "0.47490103036113374\n",
      "0.9756593028721641\n",
      "43.84266738891601\n",
      "0.6732125878334045\n"
     ]
    },
    {
     "name": "stderr",
     "output_type": "stream",
     "text": [
      "\n"
     ]
    }
   ],
   "source": [
    "from tqdm import tqdm\n",
    "from scipy.stats import pearsonr\n",
    "import tensorflow as tf\n",
    "from sklearn.metrics import mean_squared_error\n",
    "import warnings\n",
    "warnings.filterwarnings(\"ignore\")\n",
    "for k in tqdm(range(5)):\n",
    "    psnr[k]=tf.image.psnr(np.array(predicty,dtype='float32')[:,1:-1,1:-1,k],np.array(testy,dtype='float32')[:,1:-1,1:-1,k],max_val=(np.nanmax(np.array(slp_HR[:,1:-1,1:-1,k],dtype='float32'))-np.nanmin(np.array(slp_HR[:,1:-1,1:-1,k],dtype='float32'))))\n",
    "    ssim[k]=tf.image.ssim(np.array(predicty,dtype='float32')[:,1:-1,1:-1,k],np.array(testy,dtype='float32')[:,1:-1,1:-1,k],max_val=(np.nanmax(np.array(slp_HR[:,1:-1,1:-1,k],dtype='float32'))-np.nanmin(np.array(slp_HR[:,1:-1,1:-1,k],dtype='float32'))))\n",
    "    for i in range(testy.shape[1]-2):\n",
    "        for j in range(testy.shape[2]-2):\n",
    "            mse[i,j,k]=mean_squared_error(testy[:,i+1,j+1,k],predicty[:,i+1,j+1,k])\n",
    "            pearson[i,j,k],_=pearsonr(testy[:,i+1,j+1,k],predicty[:,i+1,j+1,k])\n",
    "print(np.nanmean(mse))\n",
    "print(np.nanmean(pearson))\n",
    "print(np.nanmean(psnr))\n",
    "print(np.nanmean(ssim))"
   ]
  },
  {
   "cell_type": "code",
   "execution_count": 19,
   "id": "d1aea23b-ab21-4cf4-99b0-96e44121e478",
   "metadata": {},
   "outputs": [
    {
     "name": "stderr",
     "output_type": "stream",
     "text": [
      "100%|████████████████████████████████████████████████████████████████████████████████████| 3/3 [01:42<00:00, 34.25s/it]"
     ]
    },
    {
     "name": "stdout",
     "output_type": "stream",
     "text": [
      "0.7906455840450801\n",
      "0.8946731410946014\n",
      "32.686150868733726\n",
      "0.45595161120096844\n"
     ]
    },
    {
     "name": "stderr",
     "output_type": "stream",
     "text": [
      "\n"
     ]
    }
   ],
   "source": [
    "from tqdm import tqdm\n",
    "for k in tqdm(range(3)):\n",
    "    psnr_mid[k]=tf.image.psnr(np.array(predicty,dtype='float32')[:,1:-1,1:-1,k+1],np.array(testy,dtype='float32')[:,1:-1,1:-1,k+1],max_val=(np.nanmax(np.array(slp_HR[:,1:-1,1:-1,k+1],dtype='float32'))-np.nanmin(np.array(slp_HR[:,1:-1,1:-1,k+1],dtype='float32'))))\n",
    "    ssim_mid[k]=tf.image.ssim(np.array(predicty,dtype='float32')[:,1:-1,1:-1,k+1],np.array(testy,dtype='float32')[:,1:-1,1:-1,k+1],max_val=(np.nanmax(np.array(slp_HR[:,1:-1,1:-1,k+1],dtype='float32'))-np.nanmin(np.array(slp_HR[:,1:-1,1:-1,k+1],dtype='float32'))))\n",
    "    for i in range(testy.shape[1]-2):\n",
    "        for j in range(testy.shape[2]-2):\n",
    "            mse_mid[i,j,k]=mean_squared_error(testy[:,i+1,j+1,k+1],predicty[:,i+1,j+1,k+1])\n",
    "            pearson_mid[i,j,k],_=pearsonr(testy[:,i+1,j+1,k+1],predicty[:,i+1,j+1,k+1])\n",
    "print(np.nanmean(mse_mid))\n",
    "print(np.nanmean(pearson_mid))\n",
    "print(np.nanmean(psnr_mid))\n",
    "print(np.nanmean(ssim_mid))"
   ]
  },
  {
   "cell_type": "code",
   "execution_count": 20,
   "id": "e884a719-a2b8-42a6-91c9-3d861a49f38b",
   "metadata": {},
   "outputs": [],
   "source": [
    "#创建nc文件\n",
    "def create_nc(times,lat,lon,levels,v,timename,latname,lonname,v_name,iflevel,levelname,iftime,iflat,iflon,newfilename):\n",
    "    import numpy as np\n",
    "    from netCDF4 import Dataset,num2date,date2num\n",
    "    from datetime import datetime\n",
    "    import pandas as pd\n",
    "    v = np.array(v)\n",
    "    if iflat!='no':\n",
    "        lat = np.array(lat)\n",
    "    if iflon!='no':\n",
    "        lon = np.array(lon)\n",
    "    if iflevel!='no' and iflevel!='yes':\n",
    "        levels = np.array(levels)\n",
    "    if iftime !='no':\n",
    "        times = np.array(times)\n",
    "    if iftime !='no' and iftime!='self':\n",
    "        time0=pd.to_datetime(str(np.array(times[0]))).strftime('%Y-%m-%d %H:%M:%S') #1981-01-01 00:00:00\n",
    "    newnc = Dataset(newfilename,'w',encoding='gbk',format='NETCDF4')\n",
    "    if iftime !='no':\n",
    "        newnc.createDimension(timename,None)\n",
    "        if iftime !='self':\n",
    "            time = newnc.createVariable(timename,np.float64,(timename,))\n",
    "        else:\n",
    "            time = newnc.createVariable(timename,np.int32,(timename,))\n",
    "        if iflat !='no':\n",
    "            newnc.createDimension(latname,len(lat))\n",
    "            lats = newnc.createVariable(latname,np.float32,(latname,))\n",
    "            if iflon !='no':\n",
    "                newnc.createDimension(lonname,len(lon))\n",
    "                lons = newnc.createVariable(lonname,np.float32,(lonname,))\n",
    "                if iflevel != 'no':\n",
    "                    newnc.createDimension(levelname,len(levels))\n",
    "                    levelss = newnc.createVariable(levelname,np.int32,(levelname,))\n",
    "                    vs = newnc.createVariable(v_name,np.float32,(timename,levelname,latname,lonname,))\n",
    "                else:\n",
    "                    vs = newnc.createVariable(v_name,np.float32,(timename,latname,lonname,))\n",
    "            else:\n",
    "                if iflevel != 'no':\n",
    "                    newnc.createDimension(levelname,len(levels))\n",
    "                    levelss = newnc.createVariable(levelname,np.int32,(levelname,))\n",
    "                    vs = newnc.createVariable(v_name,np.float32,(timename,levelname,latname,))\n",
    "                else:\n",
    "                    vs = newnc.createVariable(v_name,np.float32,(timename,latname,))\n",
    "        else:\n",
    "            if iflon !='no':\n",
    "                newnc.createDimension(lonname,len(lon))\n",
    "                lons = newnc.createVariable(lonname,np.float32,(lonname,))\n",
    "                if iflevel != 'no':\n",
    "                    newnc.createDimension(levelname,len(levels))\n",
    "                    levelss = newnc.createVariable(levelname,np.int32,(levelname,))\n",
    "                    vs = newnc.createVariable(v_name,np.float32,(timename,levelname,lonname,))\n",
    "                else:\n",
    "                    vs = newnc.createVariable(v_name,np.float32,(timename,lonname,))\n",
    "            else:\n",
    "                if iflevel != 'no':\n",
    "                    newnc.createDimension(levelname,len(levels))\n",
    "                    levelss = newnc.createVariable(levelname,np.int32,(levelname,))\n",
    "                    vs = newnc.createVariable(v_name,np.float32,(timename,levelname,))\n",
    "                else:\n",
    "                    vs = newnc.createVariable(v_name,np.float32,(timename,))\n",
    "    else:\n",
    "        if iflat !='no':\n",
    "            newnc.createDimension(latname,len(lat))\n",
    "            lats = newnc.createVariable(latname,np.float32,(latname,))\n",
    "            if iflon !='no':\n",
    "                newnc.createDimension(lonname,len(lon))\n",
    "                lons = newnc.createVariable(lonname,np.float32,(lonname,))\n",
    "                if iflevel != 'no':\n",
    "                    newnc.createDimension(levelname,len(levels))\n",
    "                    levelss = newnc.createVariable(levelname,np.int32,(levelname,))\n",
    "                    vs = newnc.createVariable(v_name,np.float32,(levelname,latname,lonname,))\n",
    "                else:\n",
    "                    vs = newnc.createVariable(v_name,np.float32,(latname,lonname,))\n",
    "            else:\n",
    "                if iflevel != 'no':\n",
    "                    newnc.createDimension(levelname,len(levels))\n",
    "                    levelss = newnc.createVariable(levelname,np.int32,(levelname,))\n",
    "                    vs = newnc.createVariable(v_name,np.float32,(levelname,latname,))\n",
    "                else:\n",
    "                    vs = newnc.createVariable(v_name,np.float32,(latname,))\n",
    "        else:\n",
    "            if iflon !='no':\n",
    "                newnc.createDimension(lonname,len(lon))\n",
    "                lons = newnc.createVariable(lonname,np.float32,(lonname,))\n",
    "                if iflevel != 'no':\n",
    "                    newnc.createDimension(levelname,len(levels))\n",
    "                    levelss = newnc.createVariable(levelname,np.int32,(levelname,))\n",
    "                    vs = newnc.createVariable(v_name,np.float32,(levelname,lonname,))\n",
    "                else:\n",
    "                    vs = newnc.createVariable(v_name,np.float32,(lonname,))\n",
    "            else:\n",
    "                if iflevel != 'no':\n",
    "                    newnc.createDimension(levelname,len(levels))\n",
    "                    levelss = newnc.createVariable(levelname,np.int32,(levelname,))\n",
    "                    vs = newnc.createVariable(v_name,np.float32,(levelname,))\n",
    "                else:\n",
    "                    vs = newnc.createVariable(v_name,np.float32,())\n",
    "    if iftime !='no':\n",
    "        newnc.variables[timename][:] = times\n",
    "        if iftime !='self':\n",
    "            time.units = 'day since '+str(time0)\n",
    "            time.calendar = 'gregorian'\n",
    "            dates = []\n",
    "            for n in range(v.shape[0]):\n",
    "                dates.append(datetime(int(pd.to_datetime(str(np.array(times[n]))).strftime('%Y')),int(pd.to_datetime(str(np.array(times[n]))).strftime('%m')),int(pd.to_datetime(str(np.array(times[n]))).strftime('%d')),int(pd.to_datetime(str(times[n])).strftime('%H')),int(pd.to_datetime(str(times[n])).strftime('%M')),int(pd.to_datetime(str(times[n])).strftime('%S'))))\n",
    "            time[:] = date2num(dates,units = time.units,calendar = time.calendar)\n",
    "            dates = num2date(time[:],units=time.units,calendar = time.calendar)\n",
    "    if iflat !='no':\n",
    "        newnc.variables[latname][:] = lat\n",
    "    if iflon !='no':\n",
    "        newnc.variables[lonname][:] = lon\n",
    "    if iflevel !='no':\n",
    "        newnc.variables[levelname][:] = levels\n",
    "    newnc.variables[v_name][:] = np.array(v)\n",
    "    \n",
    "    newnc.close()"
   ]
  },
  {
   "cell_type": "code",
   "execution_count": 21,
   "id": "ec5e38c0-0eec-4737-87c6-1a1ab3dfba6e",
   "metadata": {},
   "outputs": [],
   "source": [
    "time=np.array(times[index:-4])\n",
    "levels=np.array([0,1,2,3,4])\n",
    "lat=np.array(lat[:-1])\n",
    "lon=np.array(lon[:-1])\n",
    "create_nc(time,lat,lon,levels,predicty.transpose(0,3,1,2),'time','latitude','longitude','predicty','all','level','yes','yes','yes',r'E:\\Dr_Research\\result\\ST_model.nc')"
   ]
  },
  {
   "cell_type": "code",
   "execution_count": null,
   "id": "735e7d3d-6ebf-4083-b68b-f3a98f102494",
   "metadata": {},
   "outputs": [],
   "source": []
  }
 ],
 "metadata": {
  "kernelspec": {
   "display_name": "tensorflow",
   "language": "python",
   "name": "tensorflow"
  },
  "language_info": {
   "codemirror_mode": {
    "name": "ipython",
    "version": 3
   },
   "file_extension": ".py",
   "mimetype": "text/x-python",
   "name": "python",
   "nbconvert_exporter": "python",
   "pygments_lexer": "ipython3",
   "version": "3.9.19"
  }
 },
 "nbformat": 4,
 "nbformat_minor": 5
}
