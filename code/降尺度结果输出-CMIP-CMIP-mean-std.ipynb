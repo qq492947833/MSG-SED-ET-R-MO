{
 "cells": [
  {
   "cell_type": "code",
   "execution_count": 1,
   "id": "150c5655-242c-4e28-b318-362f9921f0c9",
   "metadata": {},
   "outputs": [
    {
     "name": "stdout",
     "output_type": "stream",
     "text": [
      "(51135, 117, 189) (51135, 117, 189) (51135, 117, 189) (51135, 117, 189) (51135, 117, 189)\n"
     ]
    }
   ],
   "source": [
    "import Auto_paint_self\n",
    "slp,lon,lat,levels,latlow,lattop,lonleft,lonright,times=Auto_paint_self.open_data_nc('one',r'E:\\CMIP\\historical\\CNRM-CM6-1-HR\\psl\\psl_6hrPlevPt_CNRM-CM6-1-HR_historical_r1i1p1f2_gr.nc','psl','yes','time','1980-01-01-06','2014-12-31-18','yes','lon','yes','lat',-5.0,53.0,93.0,187.0,0.5,0.5,'no','no',None,None,changeresolution=1,timespace=1,ifchange_west_east='no',ifinterpolate='no')\n",
    "g300,lon,lat,levels,latlow,lattop,lonleft,lonright,times=Auto_paint_self.open_data_nc('one',r'E:\\CMIP\\historical\\CNRM-CM6-1-HR\\zg\\zg_6hrPlevPt_CNRM-CM6-1-HR_historical_r1i1p1f2_gr-250hpa.nc','zg','yes','time','1980-01-01-06','2014-12-31-18','yes','lon','yes','lat',-5.0,53.0,93.0,187.0,0.5,0.5,'no','no',None,None,changeresolution=1,timespace=1,ifchange_west_east='no',ifinterpolate='no')\n",
    "g500,lon,lat,levels,latlow,lattop,lonleft,lonright,times=Auto_paint_self.open_data_nc('one',r'E:\\CMIP\\historical\\CNRM-CM6-1-HR\\zg\\zg_6hrPlevPt_CNRM-CM6-1-HR_historical_r1i1p1f2_gr-500hpa.nc','zg','yes','time','1980-01-01-06','2014-12-31-18','yes','lon','yes','lat',-5.0,53.0,93.0,187.0,0.5,0.5,'no','no',None,None,changeresolution=1,timespace=1,ifchange_west_east='no',ifinterpolate='no')\n",
    "u10,lon,lat,levels,latlow,lattop,lonleft,lonright,times=Auto_paint_self.open_data_nc('one',r'E:\\CMIP\\historical\\CNRM-CM6-1-HR\\ua\\ua_6hrPlevPt_CNRM-CM6-1-HR_historical_r1i1p1f2_gr-925hpa.nc','ua','yes','time','1980-01-01-06','2014-12-31-18','yes','lon','yes','lat',-5.0,53.0,93.0,187.0,0.5,0.5,'no','no',None,None,changeresolution=1,timespace=1,ifchange_west_east='no',ifinterpolate='no')\n",
    "v10,lon,lat,levels,latlow,lattop,lonleft,lonright,times=Auto_paint_self.open_data_nc('one',r'E:\\CMIP\\historical\\CNRM-CM6-1-HR\\va\\va_6hrPlevPt_CNRM-CM6-1-HR_historical_r1i1p1f2_gr-925hpa.nc','va','yes','time','1980-01-01-06','2014-12-31-18','yes','lon','yes','lat',-5.0,53.0,93.0,187.0,0.5,0.5,'no','no',None,None,changeresolution=1,timespace=1,ifchange_west_east='no',ifinterpolate='no')\n",
    "print(slp.shape,g300.shape,g500.shape,u10.shape,v10.shape)\n",
    "g300=g300*9.80665\n",
    "g500=g500*9.80665"
   ]
  },
  {
   "cell_type": "code",
   "execution_count": 2,
   "id": "b4616871-2562-4fe3-a637-421f123541d3",
   "metadata": {},
   "outputs": [],
   "source": [
    "import numpy as np\n",
    "data_HR=np.zeros((slp.shape[0]-4,slp.shape[1]-1,slp.shape[2]-1,25),dtype='float32')\n",
    "data_HR[:,:,:,0]=slp[:-4,:-1,:-1]\n",
    "data_HR[:,:,:,1]=slp[1:-3,:-1,:-1]\n",
    "data_HR[:,:,:,2]=slp[2:-2,:-1,:-1]\n",
    "data_HR[:,:,:,3]=slp[3:-1,:-1,:-1]\n",
    "data_HR[:,:,:,4]=slp[4:,:-1,:-1]\n",
    "data_HR[:,:,:,5]=g300[:-4,:-1,:-1]\n",
    "data_HR[:,:,:,6]=g300[1:-3,:-1,:-1]\n",
    "data_HR[:,:,:,7]=g300[2:-2,:-1,:-1]\n",
    "data_HR[:,:,:,8]=g300[3:-1,:-1,:-1]\n",
    "data_HR[:,:,:,9]=g300[4:,:-1,:-1]\n",
    "data_HR[:,:,:,10]=g500[:-4,:-1,:-1]\n",
    "data_HR[:,:,:,11]=g500[1:-3,:-1,:-1]\n",
    "data_HR[:,:,:,12]=g500[2:-2,:-1,:-1]\n",
    "data_HR[:,:,:,13]=g500[3:-1,:-1,:-1]\n",
    "data_HR[:,:,:,14]=g500[4:,:-1,:-1]\n",
    "data_HR[:,:,:,15]=u10[:-4,:-1,:-1]\n",
    "data_HR[:,:,:,16]=u10[1:-3,:-1,:-1]\n",
    "data_HR[:,:,:,17]=u10[2:-2,:-1,:-1]\n",
    "data_HR[:,:,:,18]=u10[3:-1,:-1,:-1]\n",
    "data_HR[:,:,:,19]=u10[4:,:-1,:-1]\n",
    "data_HR[:,:,:,20]=v10[:-4,:-1,:-1]\n",
    "data_HR[:,:,:,21]=v10[1:-3,:-1,:-1]\n",
    "data_HR[:,:,:,22]=v10[2:-2,:-1,:-1]\n",
    "data_HR[:,:,:,23]=v10[3:-1,:-1,:-1]\n",
    "data_HR[:,:,:,24]=v10[4:,:-1,:-1]"
   ]
  },
  {
   "cell_type": "code",
   "execution_count": 3,
   "id": "8fd22202-badb-40dc-b068-277033eb814a",
   "metadata": {},
   "outputs": [],
   "source": [
    "slp=slp[:,::-1,:]\n",
    "g300=g300[:,::-1,:]\n",
    "g500=g500[:,::-1,:]\n",
    "u10=u10[:,::-1,:]\n",
    "v10=v10[:,::-1,:]\n",
    "lat=lat[::-1]"
   ]
  },
  {
   "cell_type": "code",
   "execution_count": 4,
   "id": "b0b575d3-a29c-4935-9460-595fcbb82775",
   "metadata": {},
   "outputs": [
    {
     "name": "stdout",
     "output_type": "stream",
     "text": [
      "(51131, 116, 188, 25) (51131, 58, 94, 10)\n"
     ]
    }
   ],
   "source": [
    "import numpy as np\n",
    "data_HR=np.zeros((slp.shape[0]-4,slp.shape[1]-1,slp.shape[2]-1,25),dtype='float32')\n",
    "data_HR[:,:,:,0]=slp[:-4,:-1,:-1]\n",
    "data_HR[:,:,:,1]=slp[1:-3,:-1,:-1]\n",
    "data_HR[:,:,:,2]=slp[2:-2,:-1,:-1]\n",
    "data_HR[:,:,:,3]=slp[3:-1,:-1,:-1]\n",
    "data_HR[:,:,:,4]=slp[4:,:-1,:-1]\n",
    "data_HR[:,:,:,5]=g300[:-4,:-1,:-1]\n",
    "data_HR[:,:,:,6]=g300[1:-3,:-1,:-1]\n",
    "data_HR[:,:,:,7]=g300[2:-2,:-1,:-1]\n",
    "data_HR[:,:,:,8]=g300[3:-1,:-1,:-1]\n",
    "data_HR[:,:,:,9]=g300[4:,:-1,:-1]\n",
    "data_HR[:,:,:,10]=g500[:-4,:-1,:-1]\n",
    "data_HR[:,:,:,11]=g500[1:-3,:-1,:-1]\n",
    "data_HR[:,:,:,12]=g500[2:-2,:-1,:-1]\n",
    "data_HR[:,:,:,13]=g500[3:-1,:-1,:-1]\n",
    "data_HR[:,:,:,14]=g500[4:,:-1,:-1]\n",
    "data_HR[:,:,:,15]=u10[:-4,:-1,:-1]\n",
    "data_HR[:,:,:,16]=u10[1:-3,:-1,:-1]\n",
    "data_HR[:,:,:,17]=u10[2:-2,:-1,:-1]\n",
    "data_HR[:,:,:,18]=u10[3:-1,:-1,:-1]\n",
    "data_HR[:,:,:,19]=u10[4:,:-1,:-1]\n",
    "data_HR[:,:,:,20]=v10[:-4,:-1,:-1]\n",
    "data_HR[:,:,:,21]=v10[1:-3,:-1,:-1]\n",
    "data_HR[:,:,:,22]=v10[2:-2,:-1,:-1]\n",
    "data_HR[:,:,:,23]=v10[3:-1,:-1,:-1]\n",
    "data_HR[:,:,:,24]=v10[4:,:-1,:-1]\n",
    "data_LR=np.zeros((slp.shape[0]-4,int((slp.shape[1]-1)/2),int((slp.shape[2]-1)/2),10),dtype='float32')\n",
    "data_LR[:,:,:,0]=slp[:-4,:-1:2,:-1:2]\n",
    "data_LR[:,:,:,1]=slp[4:,:-1:2,:-1:2]\n",
    "data_LR[:,:,:,2]=g300[:-4,:-1:2,:-1:2]\n",
    "data_LR[:,:,:,3]=g300[4:,:-1:2,:-1:2]\n",
    "data_LR[:,:,:,4]=g500[:-4,:-1:2,:-1:2]\n",
    "data_LR[:,:,:,5]=g500[4:,:-1:2,:-1:2]\n",
    "data_LR[:,:,:,6]=u10[:-4,:-1:2,:-1:2]\n",
    "data_LR[:,:,:,7]=u10[4:,:-1:2,:-1:2]\n",
    "data_LR[:,:,:,8]=v10[:-4,:-1:2,:-1:2]\n",
    "data_LR[:,:,:,9]=v10[4:,:-1:2,:-1:2]\n",
    "print(data_HR.shape,data_LR.shape)"
   ]
  },
  {
   "cell_type": "code",
   "execution_count": 5,
   "id": "f1b0e1f9-5855-428d-83da-d356a7a7b204",
   "metadata": {},
   "outputs": [
    {
     "data": {
      "text/plain": [
       "33"
      ]
     },
     "execution_count": 5,
     "metadata": {},
     "output_type": "execute_result"
    }
   ],
   "source": [
    "import gc\n",
    "del slp\n",
    "del g300\n",
    "del g500\n",
    "del u10\n",
    "del v10\n",
    "gc.collect()"
   ]
  },
  {
   "cell_type": "code",
   "execution_count": 6,
   "id": "d3bd1c7c-f4d0-4f65-a90e-2e57c7f76d73",
   "metadata": {},
   "outputs": [
    {
     "name": "stderr",
     "output_type": "stream",
     "text": [
      "F:\\anaconda\\envs\\tensorflow\\lib\\site-packages\\numpy\\lib\\nanfunctions.py:1879: RuntimeWarning: Degrees of freedom <= 0 for slice.\n",
      "  var = nanvar(a, axis=axis, dtype=dtype, out=out, ddof=ddof,\n",
      "C:\\Users\\TBYC\\AppData\\Local\\Temp\\ipykernel_83856\\62106967.py:3: RuntimeWarning: Mean of empty slice\n",
      "  mean=np.nanmean(data_HR,axis=0)\n",
      "C:\\Users\\TBYC\\AppData\\Local\\Temp\\ipykernel_83856\\62106967.py:6: RuntimeWarning: Mean of empty slice\n",
      "  data_LR=(data_LR-np.nanmean(data_LR,axis=0))/np.nanstd(data_LR,axis=0)\n"
     ]
    }
   ],
   "source": [
    "import numpy as np\n",
    "std=np.nanstd(data_HR,axis=0)\n",
    "mean=np.nanmean(data_HR,axis=0)\n",
    "del data_HR\n",
    "gc.collect()\n",
    "data_LR=(data_LR-np.nanmean(data_LR,axis=0))/np.nanstd(data_LR,axis=0)\n",
    "data_LR=np.nan_to_num(data_LR,nan=0)"
   ]
  },
  {
   "cell_type": "code",
   "execution_count": 7,
   "id": "66d76a36-d57a-45e2-b78d-da920d080fb1",
   "metadata": {},
   "outputs": [
    {
     "name": "stdout",
     "output_type": "stream",
     "text": [
      "WARNING:tensorflow:Unable to restore custom metric. Please ensure that the layer implements `get_config` and `from_config` when saving. In addition, please use the `custom_objects` arg when calling `load_model()`.\n"
     ]
    }
   ],
   "source": [
    "from keras.models import load_model\n",
    "generator_MSG_SE_Densenet_EfficentTemp_GAN_all_001=load_model('E:\\Dr_Research\\model\\Auto_MSG_SE_Densenet_EfficentTemp_GAN_ERA5_data_no_tanh_100km_1day_to_50km_6hour_lr0.01_generator',compile=False)"
   ]
  },
  {
   "cell_type": "code",
   "execution_count": 8,
   "id": "6059bf3a-c693-41c8-8fab-c5afcd247169",
   "metadata": {},
   "outputs": [
    {
     "name": "stdout",
     "output_type": "stream",
     "text": [
      "52/52 [==============================] - 345s 7s/step\n"
     ]
    }
   ],
   "source": [
    "import tensorflow as tf\n",
    "with tf.device('/cpu:0'):\n",
    "    MSG_SE_Densenet_EfficentTemp_GAN_all_001_predicty=generator_MSG_SE_Densenet_EfficentTemp_GAN_all_001.predict(data_LR,batch_size=1000)"
   ]
  },
  {
   "cell_type": "code",
   "execution_count": 9,
   "id": "eafad9cd-f9bc-44a5-bfcc-49b6d30de10b",
   "metadata": {},
   "outputs": [
    {
     "name": "stdout",
     "output_type": "stream",
     "text": [
      "(51131, 116, 188, 25)\n"
     ]
    }
   ],
   "source": [
    "print(MSG_SE_Densenet_EfficentTemp_GAN_all_001_predicty.shape)\n",
    "MSG_SE_Densenet_EfficentTemp_GAN_all_001_predicty=MSG_SE_Densenet_EfficentTemp_GAN_all_001_predicty*std+mean"
   ]
  },
  {
   "cell_type": "code",
   "execution_count": 10,
   "id": "89eb78bf-3e75-4b6b-b713-1e074ece5715",
   "metadata": {},
   "outputs": [],
   "source": [
    "slp_predicty=np.zeros((data_LR.shape[0]-3,MSG_SE_Densenet_EfficentTemp_GAN_all_001_predicty.shape[1],MSG_SE_Densenet_EfficentTemp_GAN_all_001_predicty.shape[2]))\n",
    "z300_predicty=np.zeros((data_LR.shape[0]-3,MSG_SE_Densenet_EfficentTemp_GAN_all_001_predicty.shape[1],MSG_SE_Densenet_EfficentTemp_GAN_all_001_predicty.shape[2]))\n",
    "z500_predicty=np.zeros((data_LR.shape[0]-3,MSG_SE_Densenet_EfficentTemp_GAN_all_001_predicty.shape[1],MSG_SE_Densenet_EfficentTemp_GAN_all_001_predicty.shape[2]))\n",
    "u10_predicty=np.zeros((data_LR.shape[0]-3,MSG_SE_Densenet_EfficentTemp_GAN_all_001_predicty.shape[1],MSG_SE_Densenet_EfficentTemp_GAN_all_001_predicty.shape[2]))\n",
    "v10_predicty=np.zeros((data_LR.shape[0]-3,MSG_SE_Densenet_EfficentTemp_GAN_all_001_predicty.shape[1],MSG_SE_Densenet_EfficentTemp_GAN_all_001_predicty.shape[2]))\n",
    "for i in range(int(data_LR.shape[0]/4)):\n",
    "    slp_predicty[i*4:i*4+4,:,:]=MSG_SE_Densenet_EfficentTemp_GAN_all_001_predicty[3+i*4,:,:,0:4].transpose(2,0,1)\n",
    "    z300_predicty[i*4:i*4+4,:,:]=MSG_SE_Densenet_EfficentTemp_GAN_all_001_predicty[3+i*4,:,:,5:9].transpose(2,0,1)\n",
    "    z500_predicty[i*4:i*4+4,:,:]=MSG_SE_Densenet_EfficentTemp_GAN_all_001_predicty[3+i*4,:,:,10:14].transpose(2,0,1)\n",
    "    u10_predicty[i*4:i*4+4,:,:]=MSG_SE_Densenet_EfficentTemp_GAN_all_001_predicty[3+i*4,:,:,15:19].transpose(2,0,1)\n",
    "    v10_predicty[i*4:i*4+4,:,:]=MSG_SE_Densenet_EfficentTemp_GAN_all_001_predicty[3+i*4,:,:,20:24].transpose(2,0,1)"
   ]
  },
  {
   "cell_type": "code",
   "execution_count": 11,
   "id": "c69bcf7b-e725-4f81-82dc-079c7a99cdc4",
   "metadata": {},
   "outputs": [],
   "source": [
    "lons=lon[:-1]\n",
    "lats=lat[:-1]\n",
    "time=times[:-4]\n",
    "time=time=time[3:]"
   ]
  },
  {
   "cell_type": "code",
   "execution_count": 12,
   "id": "2f6b69c6-3aa4-40b6-866a-7965c927bbdc",
   "metadata": {},
   "outputs": [
    {
     "name": "stdout",
     "output_type": "stream",
     "text": [
      "(51128,)\n"
     ]
    }
   ],
   "source": [
    "print(time.shape)"
   ]
  },
  {
   "cell_type": "code",
   "execution_count": 13,
   "id": "3eff4023-68f9-4c32-a128-c0f27f39b8cc",
   "metadata": {},
   "outputs": [
    {
     "name": "stdout",
     "output_type": "stream",
     "text": [
      "(51128,) (51128, 116, 188)\n"
     ]
    }
   ],
   "source": [
    "print(time.shape,v10_predicty.shape)"
   ]
  },
  {
   "cell_type": "code",
   "execution_count": 14,
   "id": "e2d78c1e-bf8f-4874-b5cb-e1f270fc12d5",
   "metadata": {},
   "outputs": [
    {
     "name": "stdout",
     "output_type": "stream",
     "text": [
      "<xarray.DataArray 'lat' (lat: 116)> Size: 464B\n",
      "array([52.676765, 52.17746 , 51.678154, 51.17885 , 50.679543, 50.18024 ,\n",
      "       49.680935, 49.18163 , 48.682323, 48.183018, 47.683712, 47.184406,\n",
      "       46.6851  , 46.185795, 45.68649 , 45.187183, 44.687878, 44.188572,\n",
      "       43.689266, 43.18996 , 42.690655, 42.19135 , 41.692047, 41.19274 ,\n",
      "       40.693436, 40.19413 , 39.694824, 39.19552 , 38.696213, 38.196907,\n",
      "       37.6976  , 37.198296, 36.69899 , 36.199684, 35.700375, 35.20107 ,\n",
      "       34.701763, 34.202457, 33.70315 , 33.203846, 32.70454 , 32.205235,\n",
      "       31.70593 , 31.206625, 30.707317, 30.208012, 29.708706, 29.2094  ,\n",
      "       28.710094, 28.210789, 27.711483, 27.212177, 26.712872, 26.213566,\n",
      "       25.71426 , 25.214952, 24.715647, 24.216341, 23.717035, 23.21773 ,\n",
      "       22.718424, 22.219118, 21.719812, 21.220505, 20.721199, 20.221893,\n",
      "       19.722588, 19.223282, 18.723976, 18.22467 , 17.725365, 17.226057,\n",
      "       16.726751, 16.227446, 15.72814 , 15.228834, 14.729527, 14.230222,\n",
      "       13.730916, 13.231609, 12.732304, 12.232998, 11.733692, 11.234385,\n",
      "       10.73508 , 10.235774,  9.736467,  9.237162,  8.737856,  8.238549,\n",
      "        7.739244,  7.239937,  6.740632,  6.241325,  5.74202 ,  5.242713,\n",
      "        4.743407,  4.244102,  3.744795,  3.245489,  2.746183,  2.246877,\n",
      "        1.747571,  1.248265,  0.748959,  0.249653, -0.249653, -0.748959,\n",
      "       -1.248265, -1.747571, -2.246877, -2.746183, -3.245489, -3.744795,\n",
      "       -4.244102, -4.743407], dtype=float32)\n",
      "Coordinates:\n",
      "  * lat      (lat) float32 464B 52.68 52.18 51.68 51.18 ... -3.745 -4.244 -4.743\n",
      "<xarray.DataArray 'time' ()> Size: 8B\n",
      "array('1980-01-02T00:00:00.000000000', dtype='datetime64[ns]')\n",
      "Coordinates:\n",
      "    time     datetime64[ns] 8B 1980-01-02 <xarray.DataArray 'time' ()> Size: 8B\n",
      "array('2014-12-30T18:00:00.000000000', dtype='datetime64[ns]')\n",
      "Coordinates:\n",
      "    time     datetime64[ns] 8B 2014-12-30T18:00:00\n"
     ]
    }
   ],
   "source": [
    "print(lats)\n",
    "print(time[0],time[-1])"
   ]
  },
  {
   "cell_type": "code",
   "execution_count": 15,
   "id": "abb2b9af-964d-45c3-9326-a27f08d2e8c3",
   "metadata": {},
   "outputs": [],
   "source": [
    "#创建nc文件\n",
    "def create_nc(times,lat,lon,levels,v,timename,latname,lonname,v_name,iflevel,levelname,iftime,iflat,iflon,newfilename):\n",
    "    import numpy as np\n",
    "    from netCDF4 import Dataset,num2date,date2num\n",
    "    from datetime import datetime\n",
    "    import pandas as pd\n",
    "    v = np.array(v)\n",
    "    if iflat!='no':\n",
    "        lat = np.array(lat)\n",
    "    if iflon!='no':\n",
    "        lon = np.array(lon)\n",
    "    if iflevel!='no' and iflevel!='yes':\n",
    "        levels = np.array(levels)\n",
    "    if iftime !='no':\n",
    "        times = np.array(times)\n",
    "    if iftime !='no' and iftime!='self':\n",
    "        time0=pd.to_datetime(str(np.array(times[0]))).strftime('%Y-%m-%d %H:%M:%S') #1981-01-01 00:00:00\n",
    "    newnc = Dataset(newfilename,'w',encoding='gbk',format='NETCDF4')\n",
    "    if iftime !='no':\n",
    "        newnc.createDimension(timename,None)\n",
    "        if iftime !='self':\n",
    "            time = newnc.createVariable(timename,np.float64,(timename,))\n",
    "        else:\n",
    "            time = newnc.createVariable(timename,np.int32,(timename,))\n",
    "        if iflat !='no':\n",
    "            newnc.createDimension(latname,len(lat))\n",
    "            lats = newnc.createVariable(latname,np.float32,(latname,))\n",
    "            if iflon !='no':\n",
    "                newnc.createDimension(lonname,len(lon))\n",
    "                lons = newnc.createVariable(lonname,np.float32,(lonname,))\n",
    "                if iflevel != 'no':\n",
    "                    newnc.createDimension(levelname,len(levels))\n",
    "                    levelss = newnc.createVariable(levelname,np.int32,(levelname,))\n",
    "                    vs = newnc.createVariable(v_name,np.float32,(timename,levelname,latname,lonname,))\n",
    "                else:\n",
    "                    vs = newnc.createVariable(v_name,np.float32,(timename,latname,lonname,))\n",
    "            else:\n",
    "                if iflevel != 'no':\n",
    "                    newnc.createDimension(levelname,len(levels))\n",
    "                    levelss = newnc.createVariable(levelname,np.int32,(levelname,))\n",
    "                    vs = newnc.createVariable(v_name,np.float32,(timename,levelname,latname,))\n",
    "                else:\n",
    "                    vs = newnc.createVariable(v_name,np.float32,(timename,latname,))\n",
    "        else:\n",
    "            if iflon !='no':\n",
    "                newnc.createDimension(lonname,len(lon))\n",
    "                lons = newnc.createVariable(lonname,np.float32,(lonname,))\n",
    "                if iflevel != 'no':\n",
    "                    newnc.createDimension(levelname,len(levels))\n",
    "                    levelss = newnc.createVariable(levelname,np.int32,(levelname,))\n",
    "                    vs = newnc.createVariable(v_name,np.float32,(timename,levelname,lonname,))\n",
    "                else:\n",
    "                    vs = newnc.createVariable(v_name,np.float32,(timename,lonname,))\n",
    "            else:\n",
    "                if iflevel != 'no':\n",
    "                    newnc.createDimension(levelname,len(levels))\n",
    "                    levelss = newnc.createVariable(levelname,np.int32,(levelname,))\n",
    "                    vs = newnc.createVariable(v_name,np.float32,(timename,levelname,))\n",
    "                else:\n",
    "                    vs = newnc.createVariable(v_name,np.float32,(timename,))\n",
    "    else:\n",
    "        if iflat !='no':\n",
    "            newnc.createDimension(latname,len(lat))\n",
    "            lats = newnc.createVariable(latname,np.float32,(latname,))\n",
    "            if iflon !='no':\n",
    "                newnc.createDimension(lonname,len(lon))\n",
    "                lons = newnc.createVariable(lonname,np.float32,(lonname,))\n",
    "                if iflevel != 'no':\n",
    "                    newnc.createDimension(levelname,len(levels))\n",
    "                    levelss = newnc.createVariable(levelname,np.int32,(levelname,))\n",
    "                    vs = newnc.createVariable(v_name,np.float32,(levelname,latname,lonname,))\n",
    "                else:\n",
    "                    vs = newnc.createVariable(v_name,np.float32,(latname,lonname,))\n",
    "            else:\n",
    "                if iflevel != 'no':\n",
    "                    newnc.createDimension(levelname,len(levels))\n",
    "                    levelss = newnc.createVariable(levelname,np.int32,(levelname,))\n",
    "                    vs = newnc.createVariable(v_name,np.float32,(levelname,latname,))\n",
    "                else:\n",
    "                    vs = newnc.createVariable(v_name,np.float32,(latname,))\n",
    "        else:\n",
    "            if iflon !='no':\n",
    "                newnc.createDimension(lonname,len(lon))\n",
    "                lons = newnc.createVariable(lonname,np.float32,(lonname,))\n",
    "                if iflevel != 'no':\n",
    "                    newnc.createDimension(levelname,len(levels))\n",
    "                    levelss = newnc.createVariable(levelname,np.int32,(levelname,))\n",
    "                    vs = newnc.createVariable(v_name,np.float32,(levelname,lonname,))\n",
    "                else:\n",
    "                    vs = newnc.createVariable(v_name,np.float32,(lonname,))\n",
    "            else:\n",
    "                if iflevel != 'no':\n",
    "                    newnc.createDimension(levelname,len(levels))\n",
    "                    levelss = newnc.createVariable(levelname,np.int32,(levelname,))\n",
    "                    vs = newnc.createVariable(v_name,np.float32,(levelname,))\n",
    "                else:\n",
    "                    vs = newnc.createVariable(v_name,np.float32,())\n",
    "    if iftime !='no':\n",
    "        newnc.variables[timename][:] = times\n",
    "        if iftime !='self':\n",
    "            time.units = 'day since '+str(time0)\n",
    "            time.calendar = 'gregorian'\n",
    "            dates = []\n",
    "            for n in range(v.shape[0]):\n",
    "                dates.append(datetime(int(pd.to_datetime(str(np.array(times[n]))).strftime('%Y')),int(pd.to_datetime(str(np.array(times[n]))).strftime('%m')),int(pd.to_datetime(str(np.array(times[n]))).strftime('%d')),int(pd.to_datetime(str(times[n])).strftime('%H')),int(pd.to_datetime(str(times[n])).strftime('%M')),int(pd.to_datetime(str(times[n])).strftime('%S'))))\n",
    "            time[:] = date2num(dates,units = time.units,calendar = time.calendar)\n",
    "            dates = num2date(time[:],units=time.units,calendar = time.calendar)\n",
    "    if iflat !='no':\n",
    "        newnc.variables[latname][:] = lat\n",
    "    if iflon !='no':\n",
    "        newnc.variables[lonname][:] = lon\n",
    "    if iflevel !='no':\n",
    "        newnc.variables[levelname][:] = levels\n",
    "    newnc.variables[v_name][:] = np.array(v)\n",
    "    \n",
    "    newnc.close()"
   ]
  },
  {
   "cell_type": "code",
   "execution_count": 16,
   "id": "e3f3148b-7fb2-4d75-8479-a042f595ec5e",
   "metadata": {},
   "outputs": [],
   "source": [
    "create_nc(time,lats,lons,None,slp_predicty,'time','latitude','longitude','slp','no',None,'yes','yes','yes',r'E:\\Dr_Research\\result\\CMIP_slp_predict_cmip_mean_std.nc')\n",
    "create_nc(time,lats,lons,None,z300_predicty,'time','latitude','longitude','z300','no',None,'yes','yes','yes',r'E:\\Dr_Research\\result\\CMIP_z300_predict_cmip_mean_std.nc')\n",
    "create_nc(time,lats,lons,None,z500_predicty,'time','latitude','longitude','z500','no',None,'yes','yes','yes',r'E:\\Dr_Research\\result\\CMIP_z500_predict_cmip_mean_std.nc')\n",
    "create_nc(time,lats,lons,None,u10_predicty,'time','latitude','longitude','u10','no',None,'yes','yes','yes',r'E:\\Dr_Research\\result\\CMIP_u10_predict_cmip_mean_std.nc')\n",
    "create_nc(time,lats,lons,None,v10_predicty,'time','latitude','longitude','v10','no',None,'yes','yes','yes',r'E:\\Dr_Research\\result\\CMIP_v10_predict_cmip_mean_std.nc')"
   ]
  },
  {
   "cell_type": "code",
   "execution_count": 17,
   "id": "545cd5be-d08e-475a-a74f-1847690f7ae8",
   "metadata": {},
   "outputs": [
    {
     "name": "stdout",
     "output_type": "stream",
     "text": [
      "False\n",
      "False\n",
      "False\n",
      "False\n",
      "False\n"
     ]
    }
   ],
   "source": [
    "print(np.isnan(slp_predicty[-1,:,:]).all())\n",
    "print(np.isnan(z300_predicty[-1,:,:]).all())\n",
    "print(np.isnan(z500_predicty[-1,:,:]).all())\n",
    "print(np.isnan(u10_predicty[-1,:,:]).all())\n",
    "print(np.isnan(v10_predicty[-1,:,:]).all())"
   ]
  },
  {
   "cell_type": "code",
   "execution_count": null,
   "id": "dd064e39-8a7b-4754-ae70-0c5e65b2f894",
   "metadata": {},
   "outputs": [],
   "source": []
  }
 ],
 "metadata": {
  "kernelspec": {
   "display_name": "tensorflow",
   "language": "python",
   "name": "tensorflow"
  },
  "language_info": {
   "codemirror_mode": {
    "name": "ipython",
    "version": 3
   },
   "file_extension": ".py",
   "mimetype": "text/x-python",
   "name": "python",
   "nbconvert_exporter": "python",
   "pygments_lexer": "ipython3",
   "version": "3.9.19"
  }
 },
 "nbformat": 4,
 "nbformat_minor": 5
}
